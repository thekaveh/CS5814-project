{
  "cells": [
    {
      "cell_type": "code",
      "execution_count": null,
      "metadata": {
        "id": "nJOBqjOc5mZQ"
      },
      "outputs": [],
      "source": [
        "import os\n",
        "import sys\n",
        "import glob\n",
        "import shutil\n",
        "import zipfile\n",
        "import subprocess\n",
        "import pandas as pd"
      ]
    },
    {
      "cell_type": "code",
      "execution_count": null,
      "metadata": {
        "id": "XIB4Yru35mZS"
      },
      "outputs": [],
      "source": [
        "LANG = \"python\"\n",
        "MODEL_TYPE = \"t5\"\n",
        "PRETRAINED_MODEL = \"Salesforce/codet5-base\"\n",
        "\n",
        "N_EPOCHS = 15\n",
        "LEARNING_RATE = 5e-5\n",
        "\n",
        "BEAM_SIZE = 10\n",
        "MAX_SOURCE_LEN = 256\n",
        "MAX_TARGET_LEN = 128\n",
        "\n",
        "BATCH_SIZE_EVAL = 256\n",
        "BATCH_SIZE_TRAIN = 256\n",
        "\n",
        "MINI_DATASET_SIZE = 4096\n",
        "MINI_MODE_ENABLED = False\n",
        "\n",
        "FILENAME_JSONL_TEST = \"test.jsonl\"\n",
        "FILENAME_JSONL_TRAIN = \"train.jsonl\"\n",
        "FILENAME_JSONL_VALID = \"valid.jsonl\"\n",
        "\n",
        "FILENAME_JSONL_TEST_MINI = \"test-mini.jsonl\"\n",
        "FILENAME_JSONL_TRAIN_MINI = \"train-mini.jsonl\"\n",
        "FILENAME_JSONL_VALID_MINI = \"valid-mini.jsonl\"\n",
        "\n",
        "FILENAME_CSV_BLEU_SCORES = \"bleu_scores.csv\"\n",
        "FILENAME_CSV_EVAL_LOSSES = \"eval_losses.csv\"\n",
        "FILENAME_CSV_TRAIN_LOSSES = \"train_losses.csv\"\n",
        "FILENAME_TXT_BLEU_SCORE_TEST = \"bleu_score.test\"\n",
        "\n",
        "PLT_FIG_SIZE: int = (2 * 2 * 2 * 3, 2 * 2 * 3)"
      ]
    },
    {
      "cell_type": "code",
      "execution_count": null,
      "metadata": {
        "id": "nJb4pLJn5mZT"
      },
      "outputs": [],
      "source": [
        "notebook_path = os.path.abspath(os.curdir)\n",
        "root_path = os.path.dirname(notebook_path)\n",
        "\n",
        "repo_path = os.path.join(root_path, \"repos\", \"CodeXGLUE\")\n",
        "task_path = os.path.join(repo_path, \"Code-Text\", \"code-to-text\")\n",
        "\n",
        "src_root_path = os.path.join(root_path, \"src\", \"python\")\n",
        "src_task_path = os.path.join(src_root_path, \"codexglue\", \"summarization\")\n",
        "\n",
        "code_path = os.path.join(task_path, \"code\")\n",
        "dataset_path = os.path.join(task_path, \"dataset\")\n",
        "evaluator_path = os.path.join(task_path, \"evaluator\")\n",
        "\n",
        "model_path = os.path.join(notebook_path, \"model\")\n",
        "src_notebook_path = os.path.join(notebook_path, \"src\")\n",
        "\n",
        "model_name = \"{dataset}-{task}-{model_type}-{pretrained_model}-{lang}-n_epochs={n_epochs}-lr={lr}\" \\\n",
        "    .format(\n",
        "        lang=LANG\n",
        "        , lr=LEARNING_RATE\n",
        "        , n_epochs=N_EPOCHS\n",
        "        , dataset=\"CodeXGLUE\"\n",
        "        , task=\"summarization\"\n",
        "        , model_type=MODEL_TYPE\n",
        "        , pretrained_model=PRETRAINED_MODEL.replace(\"/\", \"_\").replace(\"-\", \"_\")\n",
        "    )"
      ]
    },
    {
      "cell_type": "code",
      "execution_count": null,
      "metadata": {},
      "outputs": [],
      "source": [
        "shutil.copy(\n",
        "    src=os.path.join(src_root_path, \"utils.py\")\n",
        "    , dst=os.path.join(src_notebook_path)\n",
        ")\n",
        "\n",
        "shutil.copy(\n",
        "    src=os.path.join(src_root_path, \"iteration_data_point.py\")\n",
        "    , dst=os.path.join(src_notebook_path)\n",
        ")\n",
        "\n",
        "sys.path.append(src_notebook_path)\n",
        "\n",
        "from utils import Utils\n",
        "from iteration_data_point import IterationDataPoint"
      ]
    },
    {
      "cell_type": "code",
      "execution_count": null,
      "metadata": {},
      "outputs": [],
      "source": [
        "if os.path.exists(path=os.path.join(model_path)):\n",
        "    shutil.rmtree(\n",
        "        ignore_errors=True\n",
        "        , path=os.path.join(model_path)\n",
        "    )"
      ]
    },
    {
      "cell_type": "code",
      "execution_count": null,
      "metadata": {
        "id": "J5Y0YnSw5mZT"
      },
      "outputs": [],
      "source": [
        "if not os.path.exists(repo_path):\n",
        "    os.makedirs(repo_path, exist_ok=True)\n",
        "    \n",
        "    subprocess.check_call(\n",
        "        [\n",
        "            \"git\"\n",
        "            , \"clone\"\n",
        "            , \"https://github.com/microsoft/CodeXGLUE\"\n",
        "            , repo_path\n",
        "        ]\n",
        "    )\n",
        "\n",
        "shutil.copy(\n",
        "    src=os.path.join(src_root_path, \"iteration_data_point.py\")\n",
        "    , dst=os.path.join(code_path)\n",
        ")\n",
        "\n",
        "shutil.copy(\n",
        "    src=os.path.join(src_task_path, \"run.py\")\n",
        "    , dst=os.path.join(code_path, \"run.py\")\n",
        ")"
      ]
    },
    {
      "cell_type": "code",
      "execution_count": null,
      "metadata": {
        "id": "l4IMQkdM5mZU"
      },
      "outputs": [],
      "source": [
        "if not os.path.exists(dataset_path):\n",
        "    with zipfile.ZipFile(os.path.join(task_path, \"dataset.zip\"), 'r') as dataset_zip_file:\n",
        "        dataset_zip_file.extractall(task_path)\n",
        "\n",
        "    for lang in [\"python\", \"java\", \"ruby\", \"javascript\", \"go\", \"php\"]:\n",
        "        subprocess.check_call(\n",
        "            [\n",
        "                \"wget\"\n",
        "                , \"https://s3.amazonaws.com/code-search-net/CodeSearchNet/v2/{lang}.zip\".format(lang=lang)\n",
        "                , \"-P\"\n",
        "                , dataset_path\n",
        "            ]\n",
        "        )\n",
        "\n",
        "        with zipfile.ZipFile(os.path.join(dataset_path, \"{lang}.zip\".format(lang=lang)), 'r') as lang_zip_file:\n",
        "            lang_zip_file.extractall(dataset_path)\n",
        "    \n",
        "    os.chdir(dataset_path)\n",
        "    subprocess.check_call(\n",
        "        [\n",
        "            \"python\"\n",
        "            , os.path.join(dataset_path, \"preprocess.py\")\n",
        "        ]\n",
        "    )\n",
        "    os.chdir(root_path)\n",
        "\n",
        "    [os.remove(f) for f in glob.glob(os.path.join(dataset_path, \"*.zip\"))]\n",
        "    [os.remove(f) for f in glob.glob(os.path.join(dataset_path, \"*.pkl\"))]\n",
        "    [shutil.rmtree(dir, ignore_errors=True) for dir in glob.glob(os.path.join(dataset_path, \"*/final\"))]\n",
        "\n",
        "    for lang in [\"python\", \"java\"]:\n",
        "        with open(os.path.join(dataset_path, lang, FILENAME_JSONL_TRAIN), mode=\"r\") as f:\n",
        "            with open(os.path.join(dataset_path, lang, FILENAME_JSONL_TRAIN_MINI), mode=\"a\") as mini_f:\n",
        "                for i in range(MINI_DATASET_SIZE):\n",
        "                    mini_f.write(next(f))\n",
        "\n",
        "        with open(os.path.join(dataset_path, lang, FILENAME_JSONL_VALID), mode=\"r\") as f:\n",
        "            with open(os.path.join(dataset_path, lang, FILENAME_JSONL_VALID_MINI), mode=\"a\") as mini_f:\n",
        "                for i in range(MINI_DATASET_SIZE):\n",
        "                    mini_f.write(next(f))\n",
        "\n",
        "        with open(os.path.join(dataset_path, lang, FILENAME_JSONL_TEST), mode=\"r\") as f:\n",
        "            with open(os.path.join(dataset_path, lang, FILENAME_JSONL_TEST_MINI), mode=\"a\") as mini_f:\n",
        "                for i in range(MINI_DATASET_SIZE):\n",
        "                    mini_f.write(next(f))"
      ]
    },
    {
      "cell_type": "code",
      "execution_count": null,
      "metadata": {
        "id": "hyCD4XtM5mZV"
      },
      "outputs": [],
      "source": [
        "subprocess.check_call(\n",
        "    [\n",
        "        \"python\"\n",
        "        \n",
        "        , os.path.join(code_path, \"run.py\")\n",
        "        \n",
        "        , \"--model_type\", MODEL_TYPE\n",
        "        , \"--model_name_or_path\", PRETRAINED_MODEL\n",
        "        , \"--output_dir\", model_path\n",
        "        \n",
        "        , \"--num_train_epochs\", str(N_EPOCHS)\n",
        "        , \"--learning_rate\", str(LEARNING_RATE)\n",
        "\n",
        "        , \"--beam_size\", str(BEAM_SIZE)\n",
        "        , \"--max_source_length\", str(MAX_SOURCE_LEN)\n",
        "        , \"--max_target_length\", str(MAX_TARGET_LEN)\n",
        "\n",
        "        , \"--do_train\"\n",
        "        , \"--train_batch_size\", str(BATCH_SIZE_TRAIN)\n",
        "        , \"--train_filename\", os.path.join(\n",
        "            dataset_path\n",
        "            , LANG\n",
        "            , FILENAME_JSONL_TRAIN if not MINI_MODE_ENABLED else FILENAME_JSONL_TRAIN_MINI\n",
        "        )\n",
        "\n",
        "        , \"--do_eval\"\n",
        "        , \"--eval_batch_size\", str(BATCH_SIZE_EVAL)\n",
        "        , \"--dev_filename\", os.path.join(\n",
        "            dataset_path\n",
        "            , LANG\n",
        "            , FILENAME_JSONL_VALID if not MINI_MODE_ENABLED else FILENAME_JSONL_VALID_MINI\n",
        "        )\n",
        "\n",
        "        , \"--eval_losses_csv_filename\", os.path.join(model_path, FILENAME_CSV_EVAL_LOSSES)\n",
        "        , \"--train_losses_csv_filename\", os.path.join(model_path, FILENAME_CSV_TRAIN_LOSSES)\n",
        "        , \"--bleu_scores_csv_filename\", os.path.join(model_path, FILENAME_CSV_BLEU_SCORES)\n",
        "    ]\n",
        ")"
      ]
    },
    {
      "cell_type": "code",
      "execution_count": null,
      "metadata": {},
      "outputs": [],
      "source": [
        "T = pd.read_csv(os.path.join(model_path, FILENAME_CSV_TRAIN_LOSSES))\n",
        "\n",
        "Utils.multiline_plot(\n",
        "    title=model_name\n",
        "    , fig_size=PLT_FIG_SIZE\n",
        "    , x_axis_label=\"Iterations\"\n",
        "    , y_axis_label=\"Training Loss\"\n",
        "    , yss=[\n",
        "        T[IterationDataPoint.COL_NAME_METRIC]\n",
        "    ]\n",
        "    , xs=T[IterationDataPoint.COL_NAME_ITER_IDX]\n",
        "    , y_legends=[\"Training Loss\"]\n",
        ")"
      ]
    },
    {
      "cell_type": "code",
      "execution_count": null,
      "metadata": {},
      "outputs": [],
      "source": [
        "E = pd.read_csv(os.path.join(model_path, FILENAME_CSV_EVAL_LOSSES))\n",
        "T = pd.read_csv(os.path.join(model_path, FILENAME_CSV_TRAIN_LOSSES))\n",
        "\n",
        "Utils.multiline_plot(\n",
        "    title=model_name\n",
        "    , fig_size=PLT_FIG_SIZE\n",
        "    , x_axis_label=\"Epochs\"\n",
        "    , y_axis_label=\"Loss\"\n",
        "    , yss=[\n",
        "        T[IterationDataPoint.COL_NAME_METRIC]\n",
        "        , E[IterationDataPoint.COL_NAME_METRIC]\n",
        "    ]\n",
        "    , xs=E[IterationDataPoint.COL_NAME_EPOCH_IDX]\n",
        "    , y_legends=[\"Training Loss\", \"Evaluation Loss\"]\n",
        ")"
      ]
    },
    {
      "cell_type": "code",
      "execution_count": null,
      "metadata": {},
      "outputs": [],
      "source": [
        "B = pd.read_csv(os.path.join(model_path, FILENAME_CSV_BLEU_SCORES))\n",
        "\n",
        "Utils.multiline_plot(\n",
        "    title=model_name\n",
        "    , fig_size=PLT_FIG_SIZE\n",
        "    , x_axis_label=\"Epochs\"\n",
        "    , y_axis_label=\"Bleu Score\"\n",
        "    , yss=[\n",
        "        B[IterationDataPoint.COL_NAME_METRIC]\n",
        "    ]\n",
        "    , xs=B[IterationDataPoint.COL_NAME_EPOCH_IDX]\n",
        "    , y_legends=[\"Bleu Score\"]\n",
        ")"
      ]
    },
    {
      "cell_type": "code",
      "execution_count": null,
      "metadata": {
        "id": "pGhieuEoGf13"
      },
      "outputs": [],
      "source": [
        "subprocess.check_call(\n",
        "    [\n",
        "        \"python\"\n",
        "        \n",
        "        , os.path.join(code_path, \"run.py\")\n",
        "        \n",
        "        , \"--model_type\", MODEL_TYPE\n",
        "        , \"--model_name_or_path\", PRETRAINED_MODEL\n",
        "        , \"--output_dir\", model_path\n",
        "        , \"--load_model_path\", os.path.join(model_path, \"checkpoint-best-bleu\", \"pytorch_model.bin\")\n",
        "\n",
        "        , \"--beam_size\", str(BEAM_SIZE)\n",
        "        , \"--max_source_length\", str(MAX_SOURCE_LEN)\n",
        "        , \"--max_target_length\", str(MAX_TARGET_LEN)\n",
        "\n",
        "        , \"--do_test\"\n",
        "        , \"--eval_batch_size\", str(BATCH_SIZE_EVAL)\n",
        "        , \"--test_filename\", os.path.join(\n",
        "            dataset_path\n",
        "            , LANG\n",
        "            , FILENAME_JSONL_TEST if not MINI_MODE_ENABLED else FILENAME_JSONL_TEST_MINI\n",
        "        )\n",
        "\n",
        "        , \"--bleu_score_test_txt_filename\", os.path.join(model_path, FILENAME_TXT_BLEU_SCORE_TEST)\n",
        "    ]\n",
        ")"
      ]
    },
    {
      "cell_type": "code",
      "execution_count": null,
      "metadata": {},
      "outputs": [],
      "source": [
        "with open(os.path.join(model_path, FILENAME_TXT_BLEU_SCORE_TEST), 'r') as bleu_score_test_file:\n",
        "    print(\"Test Bleu score: \", bleu_score_test_file.readline())"
      ]
    }
  ],
  "metadata": {
    "accelerator": "GPU",
    "colab": {
      "background_execution": "on",
      "collapsed_sections": [],
      "name": "dataset=codexglue-task=summarization-model_type=roberta-pretrained_model=codebert-lang=python.ipynb",
      "provenance": []
    },
    "interpreter": {
      "hash": "1bd664d798eaef90b759c461f8ddc88e16fa212736979b86e27c0afa80cea1c1"
    },
    "kernelspec": {
      "display_name": "Python 3.8.13",
      "language": "python",
      "name": "python3"
    },
    "language_info": {
      "codemirror_mode": {
        "name": "ipython",
        "version": 3
      },
      "file_extension": ".py",
      "mimetype": "text/x-python",
      "name": "python",
      "nbconvert_exporter": "python",
      "pygments_lexer": "ipython3",
      "version": "3.8.13"
    },
    "orig_nbformat": 4
  },
  "nbformat": 4,
  "nbformat_minor": 0
}
