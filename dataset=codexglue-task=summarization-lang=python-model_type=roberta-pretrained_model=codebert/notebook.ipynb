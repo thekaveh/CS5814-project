{
  "cells": [
    {
      "cell_type": "code",
      "execution_count": 1,
      "metadata": {
        "colab": {
          "base_uri": "https://localhost:8080/"
        },
        "id": "edvAqF8s5npV",
        "outputId": "3e37087b-93f9-42b9-9224-07e6b9f977a5"
      },
      "outputs": [],
      "source": [
        "# !pip install transformers"
      ]
    },
    {
      "cell_type": "code",
      "execution_count": 24,
      "metadata": {
        "id": "nJOBqjOc5mZQ"
      },
      "outputs": [],
      "source": [
        "import os\n",
        "import sys\n",
        "import glob\n",
        "import shutil\n",
        "import zipfile\n",
        "import subprocess\n",
        "import pandas as pd"
      ]
    },
    {
      "cell_type": "code",
      "execution_count": 25,
      "metadata": {
        "id": "XIB4Yru35mZS"
      },
      "outputs": [],
      "source": [
        "LANG = \"python\"\n",
        "MODEL_TYPE = \"roberta\"\n",
        "PRETRAINED_MODEL = \"microsoft/codebert-base\"\n",
        "\n",
        "N_EPOCHS = 1\n",
        "LEARNING_RATE = 5e-5\n",
        "\n",
        "BEAM_SIZE = 10\n",
        "MAX_SOURCE_LEN = 256\n",
        "MAX_TARGET_LEN = 128\n",
        "\n",
        "BATCH_SIZE_EVAL = 50\n",
        "BATCH_SIZE_TRAIN = 10\n",
        "\n",
        "MINI_DATASET_SIZE = 50\n",
        "MINI_MODE_ENABLED = True\n",
        "\n",
        "FILENAME_JSONL_TEST = \"test.jsonl\"\n",
        "FILENAME_JSONL_TRAIN = \"train.jsonl\"\n",
        "FILENAME_JSONL_VALID = \"valid.jsonl\"\n",
        "\n",
        "FILENAME_JSONL_TEST_MINI = \"test-mini.jsonl\"\n",
        "FILENAME_JSONL_TRAIN_MINI = \"train-mini.jsonl\"\n",
        "FILENAME_JSONL_VALID_MINI = \"valid-mini.jsonl\"\n",
        "\n",
        "FILENAME_CSV_TRAIN_LOSS = \"train_loss.csv\"\n",
        "\n",
        "PLT_FIG_SIZE: int = (2 * 2 * 2 * 3, 2 * 2 * 3)"
      ]
    },
    {
      "cell_type": "code",
      "execution_count": 28,
      "metadata": {
        "id": "nJb4pLJn5mZT"
      },
      "outputs": [],
      "source": [
        "notebook_path = os.path.abspath(os.curdir)\n",
        "root_path = os.path.dirname(notebook_path)\n",
        "\n",
        "repo_path = os.path.join(root_path, \"repos\", \"CodeXGLUE\")\n",
        "task_path = os.path.join(repo_path, \"Code-Text\", \"code-to-text\")\n",
        "\n",
        "src_path = os.path.join(root_path, \"src\", \"python\")\n",
        "src_task_path = os.path.join(src_path, \"codexglue\", \"summarization\")\n",
        "\n",
        "code_path = os.path.join(task_path, \"code\")\n",
        "dataset_path = os.path.join(task_path, \"dataset\")\n",
        "evaluator_path = os.path.join(task_path, \"evaluator\")\n",
        "\n",
        "model_path = os.path.join(notebook_path, \"model\")\n",
        "\n",
        "model_name = \"lang={lang}-model_type={model_type}-pretrained_model={pretrained_model}\" \\\n",
        "    .format(\n",
        "        lang=LANG\n",
        "        , model_type=MODEL_TYPE\n",
        "        , pretrained_model=PRETRAINED_MODEL.replace(\"/\", \"_\").replace(\"-\", \"_\")\n",
        "    )"
      ]
    },
    {
      "cell_type": "code",
      "execution_count": 34,
      "metadata": {},
      "outputs": [
        {
          "data": {
            "text/plain": [
              "'/Users/kaveh/repos/CS5814-project/dataset=codexglue-task=summarization-lang=python-model_type=roberta-pretrained_model=codebert/iteration_data_point.py'"
            ]
          },
          "execution_count": 34,
          "metadata": {},
          "output_type": "execute_result"
        }
      ],
      "source": [
        "shutil.copy(\n",
        "    src=os.path.join(src_path, \"utils.py\")\n",
        "    , dst=os.path.join(notebook_path)\n",
        ")\n",
        "\n",
        "shutil.copy(\n",
        "    src=os.path.join(src_path, \"iteration_data_point.py\")\n",
        "    , dst=os.path.join(notebook_path)\n",
        ")"
      ]
    },
    {
      "cell_type": "code",
      "execution_count": 33,
      "metadata": {
        "id": "J5Y0YnSw5mZT"
      },
      "outputs": [
        {
          "data": {
            "text/plain": [
              "'/Users/kaveh/repos/CS5814-project/repos/CodeXGLUE/Code-Text/code-to-text/code/run.py'"
            ]
          },
          "execution_count": 33,
          "metadata": {},
          "output_type": "execute_result"
        }
      ],
      "source": [
        "if not os.path.exists(repo_path):\n",
        "    os.makedirs(repo_path, exist_ok=True)\n",
        "    \n",
        "    subprocess.check_call(\n",
        "        [\n",
        "            \"git\"\n",
        "            , \"clone\"\n",
        "            , \"https://github.com/microsoft/CodeXGLUE\"\n",
        "            , repo_path\n",
        "        ]\n",
        "    )\n",
        "\n",
        "shutil.copy(\n",
        "    src=os.path.join(src_path, \"iteration_data_point.py\")\n",
        "    , dst=os.path.join(code_path)\n",
        ")\n",
        "\n",
        "shutil.copy(\n",
        "    src=os.path.join(src_task_path, \"run.py\")\n",
        "    , dst=os.path.join(code_path, \"run.py\")\n",
        ")"
      ]
    },
    {
      "cell_type": "code",
      "execution_count": 32,
      "metadata": {
        "id": "l4IMQkdM5mZU"
      },
      "outputs": [
        {
          "data": {
            "text/plain": [
              "'/Users/kaveh/repos/CS5814-project/repos/CodeXGLUE/Code-Text/code-to-text/code/iteration_data_point.py'"
            ]
          },
          "execution_count": 32,
          "metadata": {},
          "output_type": "execute_result"
        }
      ],
      "source": [
        "if not os.path.exists(dataset_path):\n",
        "    with zipfile.ZipFile(os.path.join(task_path, \"dataset.zip\"), 'r') as dataset_zip_file:\n",
        "        dataset_zip_file.extractall(task_path)\n",
        "\n",
        "    for lang in [\"python\", \"java\", \"ruby\", \"javascript\", \"go\", \"php\"]:\n",
        "        subprocess.check_call(\n",
        "            [\n",
        "                \"wget\"\n",
        "                , \"https://s3.amazonaws.com/code-search-net/CodeSearchNet/v2/{lang}.zip\".format(lang=lang)\n",
        "                , \"-P\"\n",
        "                , dataset_path\n",
        "            ]\n",
        "        )\n",
        "\n",
        "        with zipfile.ZipFile(os.path.join(dataset_path, \"{lang}.zip\".format(lang=lang)), 'r') as lang_zip_file:\n",
        "            lang_zip_file.extractall(dataset_path)\n",
        "    \n",
        "    os.chdir(dataset_path)\n",
        "    subprocess.check_call(\n",
        "        [\n",
        "            \"python\"\n",
        "            , os.path.join(dataset_path, \"preprocess.py\")\n",
        "        ]\n",
        "    )\n",
        "    os.chdir(root_path)\n",
        "\n",
        "    [os.remove(f) for f in glob.glob(os.path.join(dataset_path, \"*.zip\"))]\n",
        "    [os.remove(f) for f in glob.glob(os.path.join(dataset_path, \"*.pkl\"))]\n",
        "    [shutil.rmtree(dir, ignore_errors=True) for dir in glob.glob(os.path.join(dataset_path, \"*/final\"))]\n",
        "\n",
        "    for lang in [\"python\", \"java\"]:\n",
        "        with open(os.path.join(dataset_path, lang, FILENAME_JSONL_TRAIN), mode=\"r\") as f:\n",
        "            with open(os.path.join(dataset_path, lang, FILENAME_JSONL_TRAIN_MINI), mode=\"a\") as mini_f:\n",
        "                for i in range(MINI_DATASET_SIZE):\n",
        "                    mini_f.write(next(f))\n",
        "\n",
        "        with open(os.path.join(dataset_path, lang, FILENAME_JSONL_VALID), mode=\"r\") as f:\n",
        "            with open(os.path.join(dataset_path, lang, FILENAME_JSONL_VALID_MINI), mode=\"a\") as mini_f:\n",
        "                for i in range(MINI_DATASET_SIZE):\n",
        "                    mini_f.write(next(f))\n",
        "\n",
        "        with open(os.path.join(dataset_path, lang, FILENAME_JSONL_TEST), mode=\"r\") as f:\n",
        "            with open(os.path.join(dataset_path, lang, FILENAME_JSONL_TEST_MINI), mode=\"a\") as mini_f:\n",
        "                for i in range(MINI_DATASET_SIZE):\n",
        "                    mini_f.write(next(f))\n",
        "\n",
        "if os.path.exists(path=os.path.join(model_path)):\n",
        "    shutil.rmtree(\n",
        "        ignore_errors=True\n",
        "        , path=os.path.join(model_path)\n",
        "    )"
      ]
    },
    {
      "cell_type": "code",
      "execution_count": 23,
      "metadata": {
        "id": "hyCD4XtM5mZV"
      },
      "outputs": [
        {
          "name": "stderr",
          "output_type": "stream",
          "text": [
            "05/04/2022 22:44:04 - INFO - __main__ -   Namespace(adam_epsilon=1e-08, beam_size=10, config_name='', dev_filename='/Users/kaveh/repos/CS5814-project/repos/CodeXGLUE/Code-Text/code-to-text/dataset/python/valid-mini.jsonl', do_eval=True, do_lower_case=False, do_test=False, do_train=True, eval_batch_size=50, eval_steps=-1, gradient_accumulation_steps=1, learning_rate=5e-05, load_model_path=None, local_rank=-1, max_grad_norm=1.0, max_source_length=256, max_steps=-1, max_target_length=128, model_name_or_path='microsoft/codebert-base', model_type='roberta', no_cuda=False, num_train_epochs=1, output_dir='/Users/kaveh/repos/CS5814-project/dataset=codexglue-task=summarization-lang=python-model_type=roberta-pretrained_model=codebert/model', seed=42, test_filename=None, tokenizer_name='', train_batch_size=10, train_filename='/Users/kaveh/repos/CS5814-project/repos/CodeXGLUE/Code-Text/code-to-text/dataset/python/train-mini.jsonl', train_loss_csv_filename='/Users/kaveh/repos/CS5814-project/dataset=codexglue-task=summarization-lang=python-model_type=roberta-pretrained_model=codebert/model/train_loss.csv', train_steps=-1, warmup_steps=0, weight_decay=0.0)\n",
            "05/04/2022 22:44:04 - WARNING - __main__ -   Process rank: -1, device: cpu, n_gpu: 0, distributed training: False\n",
            "05/04/2022 22:44:06 - INFO - __main__ -   *** Example ***\n",
            "05/04/2022 22:44:06 - INFO - __main__ -   idx: 0\n",
            "05/04/2022 22:44:06 - INFO - __main__ -   source_tokens: ['<s>', 'def', '_split', '_', 'ph', 'yl', 'ogen', 'y', '_(', '_p', '_,', '_level', '_=', '_\"', 's', '\"', '_)', '_:', '_level', '_=', '_level', '_+', '_\"', '__', '\"', '_result', '_=', '_p', '_.', '_split', '_(', '_level', '_)', '_return', '_result', '_[', '_0', '_]', '_+', '_level', '_+', '_result', '_[', '_1', '_]', '_.', '_split', '_(', '_\"', ';\"', '_)', '_[', '_0', '_]', '</s>']\n",
            "05/04/2022 22:44:06 - INFO - __main__ -   source_ids: 0 9232 3462 1215 3792 4360 11575 219 36 181 2156 672 5457 22 29 113 4839 4832 672 5457 672 2055 22 30529 113 898 5457 181 479 3462 36 672 4839 671 898 646 321 27779 2055 672 2055 898 646 112 27779 479 3462 36 22 42777 4839 646 321 27779 2 1 1 1 1 1 1 1 1 1 1 1 1 1 1 1 1 1 1 1 1 1 1 1 1 1 1 1 1 1 1 1 1 1 1 1 1 1 1 1 1 1 1 1 1 1 1 1 1 1 1 1 1 1 1 1 1 1 1 1 1 1 1 1 1 1 1 1 1 1 1 1 1 1 1 1 1 1 1 1 1 1 1 1 1 1 1 1 1 1 1 1 1 1 1 1 1 1 1 1 1 1 1 1 1 1 1 1 1 1 1 1 1 1 1 1 1 1 1 1 1 1 1 1 1 1 1 1 1 1 1 1 1 1 1 1 1 1 1 1 1 1 1 1 1 1 1 1 1 1 1 1 1 1 1 1 1 1 1 1 1 1 1 1 1 1 1 1 1 1 1 1 1 1 1 1 1 1 1 1 1 1 1 1 1 1 1 1 1 1 1 1 1 1 1 1 1 1 1 1 1 1\n",
            "05/04/2022 22:44:06 - INFO - __main__ -   source_mask: 1 1 1 1 1 1 1 1 1 1 1 1 1 1 1 1 1 1 1 1 1 1 1 1 1 1 1 1 1 1 1 1 1 1 1 1 1 1 1 1 1 1 1 1 1 1 1 1 1 1 1 1 1 1 1 0 0 0 0 0 0 0 0 0 0 0 0 0 0 0 0 0 0 0 0 0 0 0 0 0 0 0 0 0 0 0 0 0 0 0 0 0 0 0 0 0 0 0 0 0 0 0 0 0 0 0 0 0 0 0 0 0 0 0 0 0 0 0 0 0 0 0 0 0 0 0 0 0 0 0 0 0 0 0 0 0 0 0 0 0 0 0 0 0 0 0 0 0 0 0 0 0 0 0 0 0 0 0 0 0 0 0 0 0 0 0 0 0 0 0 0 0 0 0 0 0 0 0 0 0 0 0 0 0 0 0 0 0 0 0 0 0 0 0 0 0 0 0 0 0 0 0 0 0 0 0 0 0 0 0 0 0 0 0 0 0 0 0 0 0 0 0 0 0 0 0 0 0 0 0 0 0 0 0 0 0 0 0 0 0 0 0 0 0 0 0 0 0 0 0 0 0 0 0 0 0\n",
            "05/04/2022 22:44:06 - INFO - __main__ -   target_tokens: ['<s>', 'Return', '_either', '_the', '_full', '_or', '_trunc', 'ated', '_version', '_of', '_a', '_Q', 'I', 'IME', '_-', '_formatted', '_tax', 'onomy', '_string', '_.', '</s>']\n",
            "05/04/2022 22:44:06 - INFO - __main__ -   target_ids: 0 42555 1169 5 455 50 43064 1070 1732 9 10 1209 100 28417 111 46625 629 38217 6755 479 2 1 1 1 1 1 1 1 1 1 1 1 1 1 1 1 1 1 1 1 1 1 1 1 1 1 1 1 1 1 1 1 1 1 1 1 1 1 1 1 1 1 1 1 1 1 1 1 1 1 1 1 1 1 1 1 1 1 1 1 1 1 1 1 1 1 1 1 1 1 1 1 1 1 1 1 1 1 1 1 1 1 1 1 1 1 1 1 1 1 1 1 1 1 1 1 1 1 1 1 1 1 1 1 1 1 1 1\n",
            "05/04/2022 22:44:06 - INFO - __main__ -   target_mask: 1 1 1 1 1 1 1 1 1 1 1 1 1 1 1 1 1 1 1 1 1 0 0 0 0 0 0 0 0 0 0 0 0 0 0 0 0 0 0 0 0 0 0 0 0 0 0 0 0 0 0 0 0 0 0 0 0 0 0 0 0 0 0 0 0 0 0 0 0 0 0 0 0 0 0 0 0 0 0 0 0 0 0 0 0 0 0 0 0 0 0 0 0 0 0 0 0 0 0 0 0 0 0 0 0 0 0 0 0 0 0 0 0 0 0 0 0 0 0 0 0 0 0 0 0 0 0 0\n",
            "05/04/2022 22:44:06 - INFO - __main__ -   *** Example ***\n",
            "05/04/2022 22:44:06 - INFO - __main__ -   idx: 1\n",
            "05/04/2022 22:44:06 - INFO - __main__ -   source_tokens: ['<s>', 'def', '_ensure', '_', 'dir', '_(', '_d', '_)', '_:', '_if', '_not', '_os', '_.', '_path', '_.', '_exists', '_(', '_d', '_)', '_:', '_try', '_:', '_os', '_.', '_m', 'aked', 'irs', '_(', '_d', '_)', '_except', '_O', 'SE', 'r', 'ror', '_as', '_o', 'e', '_:', '_#', '_should', '_not', '_happen', '_with', '_os', '.', 'm', 'aked', 'irs', '_#', '_EN', 'O', 'ENT', ':', '_No', '_such', '_file', '_or', '_directory', '_if', '_os', '_.', '_err', 'no', '_==', '_err', 'no', '_.', '_EN', 'O', 'ENT', '_:', '_msg', '_=', '_tw', 'dd', '_(', '_\"\"\"', 'One', '_or', '_more', '_directories', '_in', '_the', '_path', '_({', '})', '_do', '_not', '_exist', '.', '_If', '_you', '_are', '_specifying', '_a', '_new', '_directory', '_for', '_output', ',', '_please', '_ensure', '_all', '_other', '_directories', '_in', '_the', '_path', '_currently', '_exist', '.\"', '\"\"', '_)', '_return', '_msg', '_.', '_format', '_(', '_d', '_)', '_else', '_:', '_msg', '_=', '_tw', 'dd', '_(', '_\"\"\"', 'An', '_error', '_occurred', '_trying', '_to', '_create', '_the', '_output', '_directory', '_({', '})', '_with', '_message', ':', '_{}', '\"\"\"', '_)', '_return', '_msg', '_.', '_format', '_(', '_d', '_,', '_o', 'e', '_.', '_stre', 'r', 'ror', '_)', '</s>']\n",
            "05/04/2022 22:44:06 - INFO - __main__ -   source_ids: 0 9232 1306 1215 41292 36 385 4839 4832 114 45 11988 479 2718 479 8785 36 385 4839 4832 860 4832 11988 479 475 8435 21098 36 385 4839 4682 384 3388 338 21929 25 1021 242 4832 849 197 45 1369 19 11988 4 119 8435 21098 849 13245 673 5382 35 440 215 2870 50 31826 114 11988 479 22379 2362 45994 22379 2362 479 13245 673 5382 4832 49049 5457 11901 16134 36 49434 3762 50 55 44472 11 5 2718 49698 49424 109 45 5152 4 318 47 32 39140 10 92 31826 13 4195 6 2540 1306 70 97 44472 11 5 2718 855 5152 72 48149 4839 671 49049 479 7390 36 385 4839 1493 4832 49049 5457 11901 16134 36 49434 4688 5849 2756 667 7 1045 5 4195 31826 49698 49424 19 1579 35 49153 49849 4839 671 49049 479 7390 36 385 2156 1021 242 479 22246 338 21929 4839 2 1 1 1 1 1 1 1 1 1 1 1 1 1 1 1 1 1 1 1 1 1 1 1 1 1 1 1 1 1 1 1 1 1 1 1 1 1 1 1 1 1 1 1 1 1 1 1 1 1 1 1 1 1 1 1 1 1 1 1 1 1 1 1 1 1 1 1 1 1 1 1 1 1 1 1 1 1 1 1 1 1 1 1 1 1 1 1 1 1 1 1 1 1 1 1\n",
            "05/04/2022 22:44:06 - INFO - __main__ -   source_mask: 1 1 1 1 1 1 1 1 1 1 1 1 1 1 1 1 1 1 1 1 1 1 1 1 1 1 1 1 1 1 1 1 1 1 1 1 1 1 1 1 1 1 1 1 1 1 1 1 1 1 1 1 1 1 1 1 1 1 1 1 1 1 1 1 1 1 1 1 1 1 1 1 1 1 1 1 1 1 1 1 1 1 1 1 1 1 1 1 1 1 1 1 1 1 1 1 1 1 1 1 1 1 1 1 1 1 1 1 1 1 1 1 1 1 1 1 1 1 1 1 1 1 1 1 1 1 1 1 1 1 1 1 1 1 1 1 1 1 1 1 1 1 1 1 1 1 1 1 1 1 1 1 1 1 1 1 1 1 1 1 1 0 0 0 0 0 0 0 0 0 0 0 0 0 0 0 0 0 0 0 0 0 0 0 0 0 0 0 0 0 0 0 0 0 0 0 0 0 0 0 0 0 0 0 0 0 0 0 0 0 0 0 0 0 0 0 0 0 0 0 0 0 0 0 0 0 0 0 0 0 0 0 0 0 0 0 0 0 0 0 0 0 0 0 0 0 0 0 0 0 0 0 0 0 0 0\n",
            "05/04/2022 22:44:06 - INFO - __main__ -   target_tokens: ['<s>', 'Check', '_to', '_make', '_sure', '_the', '_supplied', '_directory', '_path', '_does', '_not', '_exist', '_if', '_so', '_create', '_it', '_.', '_The', '_method', '_catches', '_O', 'SE', 'r', 'ror', '_exceptions', '_and', '_returns', '_a', '_descriptive', '_message', '_instead', '_of', '_re', '_-', '_raising', '_the', '_error', '_.', '</s>']\n",
            "05/04/2022 22:44:06 - INFO - __main__ -   target_ids: 0 26615 7 146 686 5 12359 31826 2718 473 45 5152 114 98 1045 24 479 20 5448 8758 384 3388 338 21929 18286 8 2886 10 42690 1579 1386 9 769 111 3282 5 5849 479 2 1 1 1 1 1 1 1 1 1 1 1 1 1 1 1 1 1 1 1 1 1 1 1 1 1 1 1 1 1 1 1 1 1 1 1 1 1 1 1 1 1 1 1 1 1 1 1 1 1 1 1 1 1 1 1 1 1 1 1 1 1 1 1 1 1 1 1 1 1 1 1 1 1 1 1 1 1 1 1 1 1 1 1 1 1 1 1 1 1\n",
            "05/04/2022 22:44:06 - INFO - __main__ -   target_mask: 1 1 1 1 1 1 1 1 1 1 1 1 1 1 1 1 1 1 1 1 1 1 1 1 1 1 1 1 1 1 1 1 1 1 1 1 1 1 1 0 0 0 0 0 0 0 0 0 0 0 0 0 0 0 0 0 0 0 0 0 0 0 0 0 0 0 0 0 0 0 0 0 0 0 0 0 0 0 0 0 0 0 0 0 0 0 0 0 0 0 0 0 0 0 0 0 0 0 0 0 0 0 0 0 0 0 0 0 0 0 0 0 0 0 0 0 0 0 0 0 0 0 0 0 0 0 0 0\n",
            "05/04/2022 22:44:06 - INFO - __main__ -   *** Example ***\n",
            "05/04/2022 22:44:06 - INFO - __main__ -   idx: 2\n",
            "05/04/2022 22:44:06 - INFO - __main__ -   source_tokens: ['<s>', 'def', '_file', '_', 'handle', '_(', '_fn', 'h', '_,', '_mode', '_=', '_\"', 'r', 'U', '\"', '_)', '_:', '_handle', '_=', '_None', '_if', '_is', 'instance', '_(', '_fn', 'h', '_,', '_file', '_)', '_:', '_if', '_fn', 'h', '_.', '_closed', '_:', '_raise', '_Value', 'Error', '_(', '_\"', 'Input', '_file', '_is', '_closed', '.\"', '_)', '_handle', '_=', '_fn', 'h', '_el', 'if', '_is', 'instance', '_(', '_fn', 'h', '_,', '_str', '_)', '_:', '_handle', '_=', '_open', '_(', '_fn', 'h', '_,', '_mode', '_)', '_return', '_handle', '</s>']\n",
            "05/04/2022 22:44:06 - INFO - __main__ -   source_ids: 0 9232 2870 1215 26628 36 48930 298 2156 5745 5457 22 338 791 113 4839 4832 3679 5457 9291 114 16 48768 36 48930 298 2156 2870 4839 4832 114 48930 298 479 1367 4832 1693 11714 30192 36 22 48214 2870 16 1367 72 4839 3679 5457 48930 298 1615 1594 16 48768 36 48930 298 2156 7031 4839 4832 3679 5457 490 36 48930 298 2156 5745 4839 671 3679 2 1 1 1 1 1 1 1 1 1 1 1 1 1 1 1 1 1 1 1 1 1 1 1 1 1 1 1 1 1 1 1 1 1 1 1 1 1 1 1 1 1 1 1 1 1 1 1 1 1 1 1 1 1 1 1 1 1 1 1 1 1 1 1 1 1 1 1 1 1 1 1 1 1 1 1 1 1 1 1 1 1 1 1 1 1 1 1 1 1 1 1 1 1 1 1 1 1 1 1 1 1 1 1 1 1 1 1 1 1 1 1 1 1 1 1 1 1 1 1 1 1 1 1 1 1 1 1 1 1 1 1 1 1 1 1 1 1 1 1 1 1 1 1 1 1 1 1 1 1 1 1 1 1 1 1 1 1 1 1 1 1 1 1 1 1 1 1 1 1 1 1 1 1 1 1 1 1 1 1 1 1 1\n",
            "05/04/2022 22:44:06 - INFO - __main__ -   source_mask: 1 1 1 1 1 1 1 1 1 1 1 1 1 1 1 1 1 1 1 1 1 1 1 1 1 1 1 1 1 1 1 1 1 1 1 1 1 1 1 1 1 1 1 1 1 1 1 1 1 1 1 1 1 1 1 1 1 1 1 1 1 1 1 1 1 1 1 1 1 1 1 1 1 1 0 0 0 0 0 0 0 0 0 0 0 0 0 0 0 0 0 0 0 0 0 0 0 0 0 0 0 0 0 0 0 0 0 0 0 0 0 0 0 0 0 0 0 0 0 0 0 0 0 0 0 0 0 0 0 0 0 0 0 0 0 0 0 0 0 0 0 0 0 0 0 0 0 0 0 0 0 0 0 0 0 0 0 0 0 0 0 0 0 0 0 0 0 0 0 0 0 0 0 0 0 0 0 0 0 0 0 0 0 0 0 0 0 0 0 0 0 0 0 0 0 0 0 0 0 0 0 0 0 0 0 0 0 0 0 0 0 0 0 0 0 0 0 0 0 0 0 0 0 0 0 0 0 0 0 0 0 0 0 0 0 0 0 0 0 0 0 0 0 0 0 0 0 0 0 0 0 0 0 0 0 0\n",
            "05/04/2022 22:44:06 - INFO - __main__ -   target_tokens: ['<s>', 'T', 'akes', '_either', '_a', '_file', '_path', '_or', '_an', '_open', '_file', '_handle', '_checks', '_validity', '_and', '_returns', '_an', '_open', '_file', '_handle', '_or', '_raises', '_an', '_appropriate', '_Exception', '_.', '</s>']\n",
            "05/04/2022 22:44:06 - INFO - __main__ -   target_ids: 0 565 5556 1169 10 2870 2718 50 41 490 2870 3679 6240 25295 8 2886 41 490 2870 3679 50 7700 41 3901 47617 479 2 1 1 1 1 1 1 1 1 1 1 1 1 1 1 1 1 1 1 1 1 1 1 1 1 1 1 1 1 1 1 1 1 1 1 1 1 1 1 1 1 1 1 1 1 1 1 1 1 1 1 1 1 1 1 1 1 1 1 1 1 1 1 1 1 1 1 1 1 1 1 1 1 1 1 1 1 1 1 1 1 1 1 1 1 1 1 1 1 1 1 1 1 1 1 1 1 1 1 1 1 1\n",
            "05/04/2022 22:44:06 - INFO - __main__ -   target_mask: 1 1 1 1 1 1 1 1 1 1 1 1 1 1 1 1 1 1 1 1 1 1 1 1 1 1 1 0 0 0 0 0 0 0 0 0 0 0 0 0 0 0 0 0 0 0 0 0 0 0 0 0 0 0 0 0 0 0 0 0 0 0 0 0 0 0 0 0 0 0 0 0 0 0 0 0 0 0 0 0 0 0 0 0 0 0 0 0 0 0 0 0 0 0 0 0 0 0 0 0 0 0 0 0 0 0 0 0 0 0 0 0 0 0 0 0 0 0 0 0 0 0 0 0 0 0 0 0\n",
            "05/04/2022 22:44:06 - INFO - __main__ -   *** Example ***\n",
            "05/04/2022 22:44:06 - INFO - __main__ -   idx: 3\n",
            "05/04/2022 22:44:06 - INFO - __main__ -   source_tokens: ['<s>', 'def', '_gather', '_', 'c', 'ategories', '_(', '_im', 'ap', '_,', '_header', '_,', '_categories', '_=', '_None', '_)', '_:', '_#', '_If', '_no', '_categories', '_provided', ',', '_return', '_all', '_Sample', 'IDs', '_if', '_categories', '_is', '_None', '_:', '_return', '_{', '_\"', 'default', '\"', '_:', '_Data', 'Category', '_(', '_set', '_(', '_im', 'ap', '_.', '_keys', '_(', '_)', '_)', '_,', '_{', '_}', '_)', '_}', '_cat', '_', 'ids', '_=', '_[', '_header', '_.', '_index', '_(', '_cat', '_)', '_for', '_cat', '_in', '_categories', '_if', '_cat', '_in', '_header', '_and', '_\"', '=\"', '_not', '_in', '_cat', '_]', '_table', '_=', '_Ord', 'ered', 'D', 'ict', '_(', '_)', '_conditions', '_=', '_default', 'dict', '_(', '_set', '_)', '_for', '_i', '_,', '_cat', '_in', '_enumer', 'ate', '_(', '_categories', '_)', '_:', '_if', '_\"', '=\"', '_in', '_cat', '_and', '_cat', '_.', '_split', '_(', '_\"', '=\"', '_)', '_[', '_0', '_]', '_in', '_header', '_:', '_cat', '_', 'name', '_=', '_header', '_[', '_header', '_.', '_index', '_(', '_cat', '_.', '_split', '_(', '_\"', '=\"', '_)', '_[', '_0', '_]', '_)', '_]', '_conditions', '_[', '_cat', '_', 'name', '_]', '_.', '_add', '_(', '_cat', '_.', '_split', '_(', '_\"', '=\"', '_)', '_[', '_1', '_]', '_)', '_#', '_If', '_invalid', '_categories', '_or', '_conditions', '_identified', ',', '_return', '_all', '_Sample', 'IDs', '_if', '_not', '_cat', '_', 'ids', '_and', '_not', '_conditions', '_:', '_return', '_{', '_\"', 'default', '\"', '_:', '_Data', 'Category', '_(', '_set', '_(', '_im', 'ap', '_.', '_keys', '_(', '_)', '_)', '_,', '_{', '_}', '_)', '_}', '_#', 'If', '_only', '_category', '_column', '_given', ',', '_return', '_column', '-', 'wise', '_Sample', 'IDs', '_if', '_cat', '_', 'ids', '_and', '_not', '_conditions', '_:', '_for', '_sid', '_,', '_row', '_in', '_im', 'ap', '_.', '_items', '_(', '_)', '_:', '_cat', '_', 'name', '_=', '_\"_', '\"', '_.', '_join', '_(', '_[', '</s>']\n",
            "05/04/2022 22:44:06 - INFO - __main__ -   source_ids: 0 9232 7365 1215 438 45885 36 4356 1115 2156 12734 2156 6363 5457 9291 4839 4832 849 318 117 6363 1286 6 671 70 16269 43452 114 6363 16 9291 4832 671 25522 22 43234 113 4832 5423 46308 36 278 36 4356 1115 479 10654 36 4839 4839 2156 25522 35524 4839 35524 4758 1215 7823 5457 646 12734 479 1965 36 4758 4839 13 4758 11 6363 114 4758 11 12734 8 22 40635 45 11 4758 27779 2103 5457 16702 3215 495 11726 36 4839 1274 5457 6814 25867 36 278 4839 13 939 2156 4758 11 41949 877 36 6363 4839 4832 114 22 40635 11 4758 8 4758 479 3462 36 22 40635 4839 646 321 27779 11 12734 4832 4758 1215 13650 5457 12734 646 12734 479 1965 36 4758 479 3462 36 22 40635 4839 646 321 27779 4839 27779 1274 646 4758 1215 13650 27779 479 1606 36 4758 479 3462 36 22 40635 4839 646 112 27779 4839 849 318 21567 6363 50 1274 2006 6 671 70 16269 43452 114 45 4758 1215 7823 8 45 1274 4832 671 25522 22 43234 113 4832 5423 46308 36 278 36 4356 1115 479 10654 36 4839 4839 2156 25522 35524 4839 35524 849 1106 129 4120 6730 576 6 671 6730 12 10715 16269 43452 114 4758 1215 7823 8 45 1274 4832 13 16742 2156 3236 11 4356 1115 479 1964 36 4839 4832 4758 1215 13650 5457 49713 113 479 1962 36 646 2\n",
            "05/04/2022 22:44:06 - INFO - __main__ -   source_mask: 1 1 1 1 1 1 1 1 1 1 1 1 1 1 1 1 1 1 1 1 1 1 1 1 1 1 1 1 1 1 1 1 1 1 1 1 1 1 1 1 1 1 1 1 1 1 1 1 1 1 1 1 1 1 1 1 1 1 1 1 1 1 1 1 1 1 1 1 1 1 1 1 1 1 1 1 1 1 1 1 1 1 1 1 1 1 1 1 1 1 1 1 1 1 1 1 1 1 1 1 1 1 1 1 1 1 1 1 1 1 1 1 1 1 1 1 1 1 1 1 1 1 1 1 1 1 1 1 1 1 1 1 1 1 1 1 1 1 1 1 1 1 1 1 1 1 1 1 1 1 1 1 1 1 1 1 1 1 1 1 1 1 1 1 1 1 1 1 1 1 1 1 1 1 1 1 1 1 1 1 1 1 1 1 1 1 1 1 1 1 1 1 1 1 1 1 1 1 1 1 1 1 1 1 1 1 1 1 1 1 1 1 1 1 1 1 1 1 1 1 1 1 1 1 1 1 1 1 1 1 1 1 1 1 1 1 1 1 1 1 1 1 1 1 1 1 1 1 1 1 1 1 1 1 1 1\n",
            "05/04/2022 22:44:06 - INFO - __main__ -   target_tokens: ['<s>', 'Find', '_the', '_user', '_specified', '_categories', '_in', '_the', '_map', '_and', '_create', '_a', '_dictionary', '_to', '_contain', '_the', '_relevant', '_data', '_for', '_each', '_type', '_within', '_the', '_categories', '_.', '_Multiple', '_categories', '_will', '_have', '_their', '_types', '_combined', '_such', '_that', '_each', '_possible', '_combination', '_will', '_have', '_its', '_own', '_entry', '_in', '_the', '_dictionary', '_.', '</s>']\n",
            "05/04/2022 22:44:06 - INFO - __main__ -   target_ids: 0 38195 5 3018 17966 6363 11 5 5456 8 1045 10 36451 7 5585 5 4249 414 13 349 1907 624 5 6363 479 16210 6363 40 33 49 3505 2771 215 14 349 678 4069 40 33 63 308 3555 11 5 36451 479 2 1 1 1 1 1 1 1 1 1 1 1 1 1 1 1 1 1 1 1 1 1 1 1 1 1 1 1 1 1 1 1 1 1 1 1 1 1 1 1 1 1 1 1 1 1 1 1 1 1 1 1 1 1 1 1 1 1 1 1 1 1 1 1 1 1 1 1 1 1 1 1 1 1 1 1 1 1 1 1 1 1\n",
            "05/04/2022 22:44:06 - INFO - __main__ -   target_mask: 1 1 1 1 1 1 1 1 1 1 1 1 1 1 1 1 1 1 1 1 1 1 1 1 1 1 1 1 1 1 1 1 1 1 1 1 1 1 1 1 1 1 1 1 1 1 1 0 0 0 0 0 0 0 0 0 0 0 0 0 0 0 0 0 0 0 0 0 0 0 0 0 0 0 0 0 0 0 0 0 0 0 0 0 0 0 0 0 0 0 0 0 0 0 0 0 0 0 0 0 0 0 0 0 0 0 0 0 0 0 0 0 0 0 0 0 0 0 0 0 0 0 0 0 0 0 0 0\n",
            "05/04/2022 22:44:06 - INFO - __main__ -   *** Example ***\n",
            "05/04/2022 22:44:06 - INFO - __main__ -   idx: 4\n",
            "05/04/2022 22:44:06 - INFO - __main__ -   source_tokens: ['<s>', 'def', '_parse', '_', 'un', 'if', 'rac', '_(', '_un', 'if', 'rac', 'FN', '_)', '_:', '_with', '_open', '_(', '_un', 'if', 'rac', 'FN', '_,', '_\"', 'r', 'U', '\"', '_)', '_as', '_u', 'F', '_:', '_first', '_=', '_u', 'F', '_.', '_next', '_(', '_)', '_.', '_split', '_(', '_\"\\\\', 't', '\"', '_)', '_lines', '_=', '_[', '_line', '_.', '_strip', '_(', '_)', '_for', '_line', '_in', '_u', 'F', '_]', '_un', 'if', 'rac', '_=', '_{', '_\"', 'p', 'cd', '\"', '_:', '_Ord', 'ered', 'D', 'ict', '_(', '_)', '_,', '_\"', 'e', 'ig', 'vals', '\"', '_:', '_[', '_]', '_,', '_\"', 'v', 'are', 'xp', '\"', '_:', '_[', '_]', '_}', '_if', '_first', '_[', '_0', '_]', '_==', '_\"', 'pc', '_vector', '_number', '\"', '_:', '_return', '_parse', '_', 'un', 'if', 'rac', '_', 'v', '1', '_', '8', '_(', '_un', 'if', 'rac', '_,', '_lines', '_)', '_el', 'if', '_first', '_[', '_0', '_]', '_==', '_\"', 'E', 'ig', 'vals', '\"', '_:', '_return', '_parse', '_', 'un', 'if', 'rac', '_', 'v', '1', '_', '9', '_(', '_un', 'if', 'rac', '_,', '_lines', '_)', '_else', '_:', '_raise', '_Value', 'Error', '_(', '_\"', 'File', '_format', '_not', '_supported', '/', 'recogn', 'ized', '.', '_Please', '_check', '_input', '_\"', '_\"', 'un', 'if', 'rac', '_file', '.\"', '_)', '</s>']\n",
            "05/04/2022 22:44:06 - INFO - __main__ -   source_ids: 0 9232 43756 1215 879 1594 13249 36 542 1594 13249 38350 4839 4832 19 490 36 542 1594 13249 38350 2156 22 338 791 113 4839 25 1717 597 4832 78 5457 1717 597 479 220 36 4839 479 3462 36 49761 90 113 4839 2301 5457 646 516 479 9572 36 4839 13 516 11 1717 597 27779 542 1594 13249 5457 25522 22 642 28690 113 4832 16702 3215 495 11726 36 4839 2156 22 242 1023 21049 113 4832 646 27779 2156 22 705 1322 44813 113 4832 646 27779 35524 114 78 646 321 27779 45994 22 17426 37681 346 113 4832 671 43756 1215 879 1594 13249 1215 705 134 1215 398 36 542 1594 13249 2156 2301 4839 1615 1594 78 646 321 27779 45994 22 717 1023 21049 113 4832 671 43756 1215 879 1594 13249 1215 705 134 1215 466 36 542 1594 13249 2156 2301 4839 1493 4832 1693 11714 30192 36 22 9966 7390 45 2800 73 28039 1538 4 3401 1649 8135 22 22 879 1594 13249 2870 72 4839 2 1 1 1 1 1 1 1 1 1 1 1 1 1 1 1 1 1 1 1 1 1 1 1 1 1 1 1 1 1 1 1 1 1 1 1 1 1 1 1 1 1 1 1 1 1 1 1 1 1 1 1 1 1 1 1 1 1 1 1 1 1 1 1 1 1 1 1 1 1 1 1 1 1\n",
            "05/04/2022 22:44:06 - INFO - __main__ -   source_mask: 1 1 1 1 1 1 1 1 1 1 1 1 1 1 1 1 1 1 1 1 1 1 1 1 1 1 1 1 1 1 1 1 1 1 1 1 1 1 1 1 1 1 1 1 1 1 1 1 1 1 1 1 1 1 1 1 1 1 1 1 1 1 1 1 1 1 1 1 1 1 1 1 1 1 1 1 1 1 1 1 1 1 1 1 1 1 1 1 1 1 1 1 1 1 1 1 1 1 1 1 1 1 1 1 1 1 1 1 1 1 1 1 1 1 1 1 1 1 1 1 1 1 1 1 1 1 1 1 1 1 1 1 1 1 1 1 1 1 1 1 1 1 1 1 1 1 1 1 1 1 1 1 1 1 1 1 1 1 1 1 1 1 1 1 1 1 1 1 1 1 1 1 1 1 1 1 1 1 1 1 1 1 1 0 0 0 0 0 0 0 0 0 0 0 0 0 0 0 0 0 0 0 0 0 0 0 0 0 0 0 0 0 0 0 0 0 0 0 0 0 0 0 0 0 0 0 0 0 0 0 0 0 0 0 0 0 0 0 0 0 0 0 0 0 0 0 0 0 0 0 0 0 0 0 0 0\n",
            "05/04/2022 22:44:06 - INFO - __main__ -   target_tokens: ['<s>', 'P', 'ars', 'es', '_the', '_un', 'if', 'rac', '_results', '_file', '_into', '_a', '_dictionary', '</s>']\n",
            "05/04/2022 22:44:06 - INFO - __main__ -   target_ids: 0 510 2726 293 5 542 1594 13249 775 2870 88 10 36451 2 1 1 1 1 1 1 1 1 1 1 1 1 1 1 1 1 1 1 1 1 1 1 1 1 1 1 1 1 1 1 1 1 1 1 1 1 1 1 1 1 1 1 1 1 1 1 1 1 1 1 1 1 1 1 1 1 1 1 1 1 1 1 1 1 1 1 1 1 1 1 1 1 1 1 1 1 1 1 1 1 1 1 1 1 1 1 1 1 1 1 1 1 1 1 1 1 1 1 1 1 1 1 1 1 1 1 1 1 1 1 1 1 1 1\n",
            "05/04/2022 22:44:06 - INFO - __main__ -   target_mask: 1 1 1 1 1 1 1 1 1 1 1 1 1 1 0 0 0 0 0 0 0 0 0 0 0 0 0 0 0 0 0 0 0 0 0 0 0 0 0 0 0 0 0 0 0 0 0 0 0 0 0 0 0 0 0 0 0 0 0 0 0 0 0 0 0 0 0 0 0 0 0 0 0 0 0 0 0 0 0 0 0 0 0 0 0 0 0 0 0 0 0 0 0 0 0 0 0 0 0 0 0 0 0 0 0 0 0 0 0 0 0 0 0 0 0 0 0 0 0 0 0 0 0 0 0 0 0 0\n",
            "/Users/kaveh/dev/miniforge3/envs/ml/lib/python3.8/site-packages/transformers/optimization.py:306: FutureWarning: This implementation of AdamW is deprecated and will be removed in a future version. Use the PyTorch implementation torch.optim.AdamW instead, or set `no_deprecation_warning=True` to disable this warning\n",
            "  warnings.warn(\n",
            "05/04/2022 22:44:06 - INFO - __main__ -   ***** Running training *****\n",
            "05/04/2022 22:44:06 - INFO - __main__ -     Num examples = 50\n",
            "05/04/2022 22:44:06 - INFO - __main__ -     Batch size = 10\n",
            "05/04/2022 22:44:06 - INFO - __main__ -     Num epoch = 1\n",
            "epoch 0 loss 9.4309: 100%|██████████| 5/5 [05:46<00:00, 69.26s/it] \n"
          ]
        },
        {
          "data": {
            "text/plain": [
              "0"
            ]
          },
          "execution_count": 23,
          "metadata": {},
          "output_type": "execute_result"
        }
      ],
      "source": [
        "subprocess.check_call(\n",
        "    [\n",
        "        \"python\"\n",
        "        \n",
        "        , os.path.join(code_path, \"run.py\")\n",
        "        \n",
        "        , \"--model_type\", MODEL_TYPE\n",
        "        , \"--model_name_or_path\", PRETRAINED_MODEL\n",
        "        , \"--output_dir\", model_path\n",
        "        \n",
        "        , \"--num_train_epochs\", str(N_EPOCHS)\n",
        "        , \"--learning_rate\", str(LEARNING_RATE)\n",
        "\n",
        "        , \"--beam_size\", str(BEAM_SIZE)\n",
        "        , \"--max_source_length\", str(MAX_SOURCE_LEN)\n",
        "        , \"--max_target_length\", str(MAX_TARGET_LEN)\n",
        "\n",
        "        , \"--do_train\"\n",
        "        , \"--train_batch_size\", str(BATCH_SIZE_TRAIN)\n",
        "        , \"--train_filename\", os.path.join(\n",
        "            dataset_path\n",
        "            , LANG\n",
        "            , FILENAME_JSONL_TRAIN if not MINI_MODE_ENABLED else FILENAME_JSONL_TRAIN_MINI\n",
        "        )\n",
        "\n",
        "        , \"--do_eval\"\n",
        "        , \"--eval_batch_size\", str(BATCH_SIZE_EVAL)\n",
        "        , \"--dev_filename\", os.path.join(\n",
        "            dataset_path\n",
        "            , LANG\n",
        "            , FILENAME_JSONL_VALID if not MINI_MODE_ENABLED else FILENAME_JSONL_VALID_MINI\n",
        "        )\n",
        "\n",
        "        , \"--train_loss_csv_filename\", os.path.join(model_path, FILENAME_CSV_TRAIN_LOSS)\n",
        "    ]\n",
        ")"
      ]
    },
    {
      "cell_type": "code",
      "execution_count": 27,
      "metadata": {},
      "outputs": [
        {
          "ename": "ValueError",
          "evalue": "range() arg 3 must not be zero",
          "output_type": "error",
          "traceback": [
            "\u001b[0;31m---------------------------------------------------------------------------\u001b[0m",
            "\u001b[0;31mValueError\u001b[0m                                Traceback (most recent call last)",
            "\u001b[1;32m/Users/kaveh/repos/CS5814-project/dataset=codexglue-task=summarization-lang=python-model_type=roberta-pretrained_model=codebert/notebook.ipynb Cell 8'\u001b[0m in \u001b[0;36m<cell line: 5>\u001b[0;34m()\u001b[0m\n\u001b[1;32m      <a href='vscode-notebook-cell:/Users/kaveh/repos/CS5814-project/dataset%3Dcodexglue-task%3Dsummarization-lang%3Dpython-model_type%3Droberta-pretrained_model%3Dcodebert/notebook.ipynb#ch0000010?line=0'>1</a>\u001b[0m \u001b[39mfrom\u001b[39;00m \u001b[39mutils\u001b[39;00m \u001b[39mimport\u001b[39;00m Utils\n\u001b[1;32m      <a href='vscode-notebook-cell:/Users/kaveh/repos/CS5814-project/dataset%3Dcodexglue-task%3Dsummarization-lang%3Dpython-model_type%3Droberta-pretrained_model%3Dcodebert/notebook.ipynb#ch0000010?line=2'>3</a>\u001b[0m df_train_loss \u001b[39m=\u001b[39m pd\u001b[39m.\u001b[39mread_csv(os\u001b[39m.\u001b[39mpath\u001b[39m.\u001b[39mjoin(model_path, FILENAME_CSV_TRAIN_LOSS))\n\u001b[0;32m----> <a href='vscode-notebook-cell:/Users/kaveh/repos/CS5814-project/dataset%3Dcodexglue-task%3Dsummarization-lang%3Dpython-model_type%3Droberta-pretrained_model%3Dcodebert/notebook.ipynb#ch0000010?line=4'>5</a>\u001b[0m Utils\u001b[39m.\u001b[39;49mmultiline_plot(\n\u001b[1;32m      <a href='vscode-notebook-cell:/Users/kaveh/repos/CS5814-project/dataset%3Dcodexglue-task%3Dsummarization-lang%3Dpython-model_type%3Droberta-pretrained_model%3Dcodebert/notebook.ipynb#ch0000010?line=5'>6</a>\u001b[0m     xs\u001b[39m=\u001b[39;49mdf_train_loss[\u001b[39m\"\u001b[39;49m\u001b[39midx_iter\u001b[39;49m\u001b[39m\"\u001b[39;49m]\n\u001b[1;32m      <a href='vscode-notebook-cell:/Users/kaveh/repos/CS5814-project/dataset%3Dcodexglue-task%3Dsummarization-lang%3Dpython-model_type%3Droberta-pretrained_model%3Dcodebert/notebook.ipynb#ch0000010?line=6'>7</a>\u001b[0m     , fig_size\u001b[39m=\u001b[39;49mPLT_FIG_SIZE\n\u001b[1;32m      <a href='vscode-notebook-cell:/Users/kaveh/repos/CS5814-project/dataset%3Dcodexglue-task%3Dsummarization-lang%3Dpython-model_type%3Droberta-pretrained_model%3Dcodebert/notebook.ipynb#ch0000010?line=7'>8</a>\u001b[0m     , x_axis_label\u001b[39m=\u001b[39;49m\u001b[39m\"\u001b[39;49m\u001b[39mEpisode\u001b[39;49m\u001b[39m\"\u001b[39;49m\n\u001b[1;32m      <a href='vscode-notebook-cell:/Users/kaveh/repos/CS5814-project/dataset%3Dcodexglue-task%3Dsummarization-lang%3Dpython-model_type%3Droberta-pretrained_model%3Dcodebert/notebook.ipynb#ch0000010?line=8'>9</a>\u001b[0m     , y_axis_label\u001b[39m=\u001b[39;49m\u001b[39m\"\u001b[39;49m\u001b[39mMoves per playing episode\u001b[39;49m\u001b[39m\"\u001b[39;49m\n\u001b[1;32m     <a href='vscode-notebook-cell:/Users/kaveh/repos/CS5814-project/dataset%3Dcodexglue-task%3Dsummarization-lang%3Dpython-model_type%3Droberta-pretrained_model%3Dcodebert/notebook.ipynb#ch0000010?line=9'>10</a>\u001b[0m     , title\u001b[39m=\u001b[39;49m\u001b[39m\"\u001b[39;49m\u001b[39mDQN playing #moves & moving average of #moves\u001b[39;49m\u001b[39m\"\u001b[39;49m\n\u001b[1;32m     <a href='vscode-notebook-cell:/Users/kaveh/repos/CS5814-project/dataset%3Dcodexglue-task%3Dsummarization-lang%3Dpython-model_type%3Droberta-pretrained_model%3Dcodebert/notebook.ipynb#ch0000010?line=10'>11</a>\u001b[0m     , y_legends\u001b[39m=\u001b[39;49m[\u001b[39m\"\u001b[39;49m\u001b[39mPlaying #moves\u001b[39;49m\u001b[39m\"\u001b[39;49m, \u001b[39m\"\u001b[39;49m\u001b[39mPlaying moving average of #moves\u001b[39;49m\u001b[39m\"\u001b[39;49m]\n\u001b[1;32m     <a href='vscode-notebook-cell:/Users/kaveh/repos/CS5814-project/dataset%3Dcodexglue-task%3Dsummarization-lang%3Dpython-model_type%3Droberta-pretrained_model%3Dcodebert/notebook.ipynb#ch0000010?line=11'>12</a>\u001b[0m     , yss\u001b[39m=\u001b[39;49m[\n\u001b[1;32m     <a href='vscode-notebook-cell:/Users/kaveh/repos/CS5814-project/dataset%3Dcodexglue-task%3Dsummarization-lang%3Dpython-model_type%3Droberta-pretrained_model%3Dcodebert/notebook.ipynb#ch0000010?line=12'>13</a>\u001b[0m         df_train_loss[\u001b[39m\"\u001b[39;49m\u001b[39mloss\u001b[39;49m\u001b[39m\"\u001b[39;49m]\n\u001b[1;32m     <a href='vscode-notebook-cell:/Users/kaveh/repos/CS5814-project/dataset%3Dcodexglue-task%3Dsummarization-lang%3Dpython-model_type%3Droberta-pretrained_model%3Dcodebert/notebook.ipynb#ch0000010?line=13'>14</a>\u001b[0m     ]\n\u001b[1;32m     <a href='vscode-notebook-cell:/Users/kaveh/repos/CS5814-project/dataset%3Dcodexglue-task%3Dsummarization-lang%3Dpython-model_type%3Droberta-pretrained_model%3Dcodebert/notebook.ipynb#ch0000010?line=14'>15</a>\u001b[0m )\n",
            "File \u001b[0;32m~/repos/CS5814-project/src/python/utils.py:17\u001b[0m, in \u001b[0;36mUtils.multiline_plot\u001b[0;34m(fig_size, title, x_axis_label, xs, y_axis_label, y_legends, yss)\u001b[0m\n\u001b[1;32m     <a href='file:///Users/kaveh/repos/CS5814-project/src/python/utils.py?line=14'>15</a>\u001b[0m ax\u001b[39m.\u001b[39mset_ylabel(y_axis_label, fontsize\u001b[39m=\u001b[39m\u001b[39m14\u001b[39m)\n\u001b[1;32m     <a href='file:///Users/kaveh/repos/CS5814-project/src/python/utils.py?line=15'>16</a>\u001b[0m ax\u001b[39m.\u001b[39mset_xlabel(x_axis_label, fontsize\u001b[39m=\u001b[39m\u001b[39m14\u001b[39m)\n\u001b[0;32m---> <a href='file:///Users/kaveh/repos/CS5814-project/src/python/utils.py?line=16'>17</a>\u001b[0m ax\u001b[39m.\u001b[39mset_xticks(\u001b[39mrange\u001b[39;49m(\u001b[39m0\u001b[39;49m, \u001b[39mlen\u001b[39;49m(xs), \u001b[39mlen\u001b[39;49m(xs) \u001b[39m/\u001b[39;49m\u001b[39m/\u001b[39;49m \u001b[39m25\u001b[39;49m))\n\u001b[1;32m     <a href='file:///Users/kaveh/repos/CS5814-project/src/python/utils.py?line=18'>19</a>\u001b[0m plt\u001b[39m.\u001b[39mlegend(fontsize\u001b[39m=\u001b[39m\u001b[39m'\u001b[39m\u001b[39mx-large\u001b[39m\u001b[39m'\u001b[39m)\n\u001b[1;32m     <a href='file:///Users/kaveh/repos/CS5814-project/src/python/utils.py?line=19'>20</a>\u001b[0m plt\u001b[39m.\u001b[39mtight_layout() \n",
            "\u001b[0;31mValueError\u001b[0m: range() arg 3 must not be zero"
          ]
        },
        {
          "data": {
            "image/png": "[encoded data removed]",
            "text/plain": [
              "<Figure size 1728x864 with 1 Axes>"
            ]
          },
          "metadata": {
            "needs_background": "light"
          },
          "output_type": "display_data"
        }
      ],
      "source": [
        "from utils import Utils\n",
        "from iteration_data_point import IterationDataPoint\n",
        "\n",
        "R = pd.read_csv(os.path.join(model_path, FILENAME_CSV_TRAIN_LOSS))\n",
        "\n",
        "Utils.multiline_plot(\n",
        "    xs=R[IterationDataPoint.COL_NAME_ITER_IDX]\n",
        "    , fig_size=PLT_FIG_SIZE\n",
        "    , x_axis_label=\"Iterations\"\n",
        "    , y_axis_label=\"Training Loss\"\n",
        "    , title=model_name\n",
        "    , y_legends=[\"Training Loss\"]\n",
        "    , yss=[\n",
        "        R[IterationDataPoint.COL_NAME_LOSS]\n",
        "    ]\n",
        ")"
      ]
    },
    {
      "cell_type": "code",
      "execution_count": null,
      "metadata": {
        "id": "pGhieuEoGf13"
      },
      "outputs": [],
      "source": [
        "subprocess.check_call(\n",
        "    [\n",
        "        \"python\"\n",
        "        \n",
        "        , os.path.join(code_path, \"run.py\")\n",
        "        \n",
        "        , \"--model_type\", MODEL_TYPE\n",
        "        , \"--model_name_or_path\", PRETRAINED_MODEL\n",
        "        , \"--output_dir\", model_path\n",
        "        , \"--load_model_path\", os.path.join(model_path, \"checkpoint-best-bleu\", \"pytorch_model.bin\")\n",
        "\n",
        "        , \"--beam_size\", str(BEAM_SIZE)\n",
        "        , \"--max_source_length\", str(MAX_SOURCE_LEN)\n",
        "        , \"--max_target_length\", str(MAX_TARGET_LEN)\n",
        "\n",
        "        , \"--do_test\"\n",
        "        , \"--test_filename\", os.path.join(\n",
        "            dataset_path\n",
        "            , LANG\n",
        "            , FILENAME_JSONL_TEST if not MINI_MODE_ENABLED else FILENAME_JSONL_TEST_MINI\n",
        "        )\n",
        "    ]\n",
        ")"
      ]
    },
    {
      "cell_type": "code",
      "execution_count": null,
      "metadata": {
        "colab": {
          "base_uri": "https://localhost:8080/",
          "height": 368
        },
        "id": "jeN6GyMAicZ4",
        "outputId": "311be4e8-6255-4cb7-beea-9070d0e053c5"
      },
      "outputs": [],
      "source": [
        "os.chdir(evaluator_path)\n",
        "\n",
        "subprocess.check_call(\n",
        "    [\n",
        "        \"python\"\n",
        "        , \"evaluator.py\"\n",
        "        , os.path.join(model_path, model_name, \"test_0.gold\")\n",
        "        , \"<\"\n",
        "        , os.path.join(model_path, model_name, \"test_0.output\")\n",
        "    ]\n",
        ")\n",
        "\n",
        "os.chdir(root_path)"
      ]
    }
  ],
  "metadata": {
    "accelerator": "GPU",
    "colab": {
      "background_execution": "on",
      "collapsed_sections": [],
      "name": "dataset=codexglue-task=summarization-model_type=roberta-pretrained_model=codebert-lang=python.ipynb",
      "provenance": []
    },
    "interpreter": {
      "hash": "1bd664d798eaef90b759c461f8ddc88e16fa212736979b86e27c0afa80cea1c1"
    },
    "kernelspec": {
      "display_name": "Python 3.8.13",
      "language": "python",
      "name": "python3"
    },
    "language_info": {
      "codemirror_mode": {
        "name": "ipython",
        "version": 3
      },
      "file_extension": ".py",
      "mimetype": "text/x-python",
      "name": "python",
      "nbconvert_exporter": "python",
      "pygments_lexer": "ipython3",
      "version": "3.8.13"
    },
    "orig_nbformat": 4
  },
  "nbformat": 4,
  "nbformat_minor": 0
}
