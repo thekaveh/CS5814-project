{
  "cells": [
    {
      "cell_type": "code",
      "execution_count": null,
      "metadata": {
        "colab": {
          "base_uri": "https://localhost:8080/"
        },
        "id": "edvAqF8s5npV",
        "outputId": "3e37087b-93f9-42b9-9224-07e6b9f977a5"
      },
      "outputs": [],
      "source": [
        "# !pip install transformers"
      ]
    },
    {
      "cell_type": "code",
      "execution_count": null,
      "metadata": {
        "id": "nJOBqjOc5mZQ"
      },
      "outputs": [],
      "source": [
        "import os\n",
        "import glob\n",
        "import shutil\n",
        "import zipfile\n",
        "import subprocess"
      ]
    },
    {
      "cell_type": "code",
      "execution_count": null,
      "metadata": {
        "id": "XIB4Yru35mZS"
      },
      "outputs": [],
      "source": [
        "LANG = \"python\"\n",
        "MODEL_TYPE = \"roberta\"\n",
        "PRE_TRAINED_MODEL_NAME = \"microsoft/codebert-base\"\n",
        "\n",
        "N_EPOCHS = 10\n",
        "LEARNING_RATE = 5e-5\n",
        "\n",
        "BEAM_SIZE = 10\n",
        "MAX_SOURCE_LEN = 256\n",
        "MAX_TARGET_LEN = 128\n",
        "\n",
        "BATCH_SIZE_EVAL = 50\n",
        "BATCH_SIZE_TRAIN = 10\n",
        "\n",
        "MINI_DATASET_SIZE = 50"
      ]
    },
    {
      "cell_type": "code",
      "execution_count": null,
      "metadata": {
        "id": "nJb4pLJn5mZT"
      },
      "outputs": [],
      "source": [
        "root_path = os.path.abspath(os.curdir)\n",
        "repo_path = os.path.join(root_path, \"repos\", \"CodeXGLUE\")\n",
        "task_path = os.path.join(repo_path, \"Code-Text\", \"code-to-text\")\n",
        "\n",
        "code_path = os.path.join(task_path, \"code\")\n",
        "model_path = os.path.join(task_path, \"model\")\n",
        "dataset_path = os.path.join(task_path, \"dataset\")\n",
        "evaluator_path = os.path.join(task_path, \"evaluator\")"
      ]
    },
    {
      "cell_type": "code",
      "execution_count": null,
      "metadata": {
        "id": "J5Y0YnSw5mZT"
      },
      "outputs": [],
      "source": [
        "if not os.path.exists(repo_path):\n",
        "    os.makedirs(repo_path, exist_ok=True)\n",
        "    \n",
        "    subprocess.check_call(\n",
        "        [\n",
        "            \"git\"\n",
        "            , \"clone\"\n",
        "            , \"https://github.com/microsoft/CodeXGLUE\"\n",
        "            , repo_path\n",
        "        ]\n",
        "    )"
      ]
    },
    {
      "cell_type": "code",
      "execution_count": null,
      "metadata": {
        "id": "l4IMQkdM5mZU"
      },
      "outputs": [],
      "source": [
        "if not os.path.exists(dataset_path):\n",
        "    with zipfile.ZipFile(os.path.join(task_path, \"dataset.zip\"), 'r') as dataset_zip_file:\n",
        "        dataset_zip_file.extractall(task_path)\n",
        "\n",
        "    for lang in [\"python\", \"java\", \"ruby\", \"javascript\", \"go\", \"php\"]:\n",
        "        subprocess.check_call(\n",
        "            [\n",
        "                \"wget\"\n",
        "                , \"https://s3.amazonaws.com/code-search-net/CodeSearchNet/v2/{lang}.zip\".format(lang=lang)\n",
        "                , \"-P\"\n",
        "                , dataset_path\n",
        "            ]\n",
        "        )\n",
        "\n",
        "        with zipfile.ZipFile(os.path.join(dataset_path, \"{lang}.zip\".format(lang=lang)), 'r') as lang_zip_file:\n",
        "            lang_zip_file.extractall(dataset_path)\n",
        "    \n",
        "    os.chdir(dataset_path)\n",
        "    subprocess.check_call(\n",
        "        [\n",
        "            \"python\"\n",
        "            , os.path.join(dataset_path, \"preprocess.py\")\n",
        "        ]\n",
        "    )\n",
        "    os.chdir(root_path)\n",
        "\n",
        "    [os.remove(f) for f in glob.glob(os.path.join(dataset_path, \"*.zip\"))]\n",
        "    [os.remove(f) for f in glob.glob(os.path.join(dataset_path, \"*.pkl\"))]\n",
        "    [shutil.rmtree(dir, ignore_errors=True) for dir in glob.glob(os.path.join(dataset_path, \"*/final\"))]\n",
        "\n",
        "    for lang in [\"python\", \"java\"]:\n",
        "        with open(os.path.join(dataset_path, lang, \"train.jsonl\"), mode=\"r\") as f:\n",
        "            with open(os.path.join(dataset_path, lang, \"train-mini.jsonl\"), mode=\"a\") as mini_f:\n",
        "                for i in range(MINI_DATASET_SIZE):\n",
        "                    mini_f.write(next(f))\n",
        "\n",
        "        with open(os.path.join(dataset_path, lang, \"valid.jsonl\"), mode=\"r\") as f:\n",
        "            with open(os.path.join(dataset_path, lang, \"valid-mini.jsonl\"), mode=\"a\") as mini_f:\n",
        "                for i in range(MINI_DATASET_SIZE):\n",
        "                    mini_f.write(next(f))\n",
        "\n",
        "        with open(os.path.join(dataset_path, lang, \"test.jsonl\"), mode=\"r\") as f:\n",
        "            with open(os.path.join(dataset_path, lang, \"test-mini.jsonl\"), mode=\"a\") as mini_f:\n",
        "                for i in range(MINI_DATASET_SIZE):\n",
        "                    mini_f.write(next(f))"
      ]
    },
    {
      "cell_type": "code",
      "execution_count": null,
      "metadata": {
        "id": "hyCD4XtM5mZV"
      },
      "outputs": [],
      "source": [
        "os.chdir(code_path)\n",
        "\n",
        "subprocess.check_call(\n",
        "    [\n",
        "        \"python\"\n",
        "        \n",
        "        , \"run.py\"\n",
        "        \n",
        "        , \"--model_type\", MODEL_TYPE\n",
        "        , \"--model_name_or_path\", PRE_TRAINED_MODEL_NAME\n",
        "        , \"--output_dir\", os.path.join(model_path, LANG)\n",
        "        \n",
        "        , \"--num_train_epochs\", str(N_EPOCHS)\n",
        "        , \"--learning_rate\", str(LEARNING_RATE)\n",
        "\n",
        "        , \"--beam_size\", str(BEAM_SIZE)\n",
        "        , \"--max_source_length\", str(MAX_SOURCE_LEN)\n",
        "        , \"--max_target_length\", str(MAX_TARGET_LEN)\n",
        "\n",
        "        , \"--do_train\"\n",
        "        , \"--train_batch_size\", str(BATCH_SIZE_TRAIN)\n",
        "        , \"--train_filename\", os.path.join(dataset_path, LANG, \"train.jsonl\")\n",
        "\n",
        "        , \"--do_eval\"\n",
        "        , \"--eval_batch_size\", str(BATCH_SIZE_EVAL)\n",
        "        , \"--dev_filename\", os.path.join(dataset_path, LANG, \"valid.jsonl\")\n",
        "    ]\n",
        ")\n",
        "\n",
        "os.chdir(root_path)"
      ]
    },
    {
      "cell_type": "code",
      "execution_count": null,
      "metadata": {
        "id": "pGhieuEoGf13"
      },
      "outputs": [],
      "source": [
        "os.chdir(code_path)\n",
        "\n",
        "subprocess.check_call(\n",
        "    [\n",
        "        \"python\"\n",
        "        \n",
        "        , \"run.py\"\n",
        "        \n",
        "        , \"--model_type\", MODEL_TYPE\n",
        "        , \"--model_name_or_path\", PRE_TRAINED_MODEL_NAME\n",
        "        , \"--output_dir\", os.path.join(model_path, LANG)\n",
        "        , \"--load_model_path\", os.path.join(model_path, LANG, \"checkpoint-best-bleu\", \"pytorch_model.bin\")\n",
        "\n",
        "        , \"--beam_size\", str(BEAM_SIZE)\n",
        "        , \"--max_source_length\", str(MAX_SOURCE_LEN)\n",
        "        , \"--max_target_length\", str(MAX_TARGET_LEN)\n",
        "\n",
        "        , \"--do_test\"\n",
        "        , \"--test_filename\", os.path.join(dataset_path, LANG, \"test.jsonl\")\n",
        "    ]\n",
        ")\n",
        "\n",
        "os.chdir(root_path)"
      ]
    },
    {
      "cell_type": "code",
      "execution_count": null,
      "metadata": {
        "colab": {
          "base_uri": "https://localhost:8080/",
          "height": 368
        },
        "id": "jeN6GyMAicZ4",
        "outputId": "311be4e8-6255-4cb7-beea-9070d0e053c5"
      },
      "outputs": [],
      "source": [
        "os.chdir(evaluator_path)\n",
        "\n",
        "subprocess.check_call(\n",
        "    [\n",
        "        \"python\"\n",
        "        , \"evaluator.py\"\n",
        "        , os.path.join(model_path, LANG, \"test_0.gold\")\n",
        "        , \"<\"\n",
        "        , os.path.join(model_path, LANG, \"test_0.output\")\n",
        "    ]\n",
        ")\n",
        "\n",
        "os.chdir(root_path)"
      ]
    }
  ],
  "metadata": {
    "accelerator": "GPU",
    "colab": {
      "background_execution": "on",
      "collapsed_sections": [],
      "name": "dataset=codexglue-task=summarization-model_type=roberta-pretrained_model=codebert-lang=python.ipynb",
      "provenance": []
    },
    "interpreter": {
      "hash": "1bd664d798eaef90b759c461f8ddc88e16fa212736979b86e27c0afa80cea1c1"
    },
    "kernelspec": {
      "display_name": "Python 3.8.13",
      "language": "python",
      "name": "python3"
    },
    "language_info": {
      "codemirror_mode": {
        "name": "ipython",
        "version": 3
      },
      "file_extension": ".py",
      "mimetype": "text/x-python",
      "name": "python",
      "nbconvert_exporter": "python",
      "pygments_lexer": "ipython3",
      "version": "3.8.13"
    },
    "orig_nbformat": 4
  },
  "nbformat": 4,
  "nbformat_minor": 0
}
