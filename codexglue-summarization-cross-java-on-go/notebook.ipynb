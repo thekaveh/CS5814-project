{
 "cells": [
  {
   "cell_type": "code",
   "execution_count": 1,
   "metadata": {
    "id": "nJOBqjOc5mZQ"
   },
   "outputs": [],
   "source": [
    "import os\n",
    "import subprocess"
   ]
  },
  {
   "cell_type": "code",
   "execution_count": 2,
   "metadata": {
    "id": "XIB4Yru35mZS"
   },
   "outputs": [],
   "source": [
    "LANG_SRC = \"java\"\n",
    "LANG_DST = \"go\"\n",
    "\n",
    "MODEL_TYPE = \"roberta\"\n",
    "PRETRAINED_MODEL = \"microsoft/unixcoder-base\"\n",
    "\n",
    "N_EPOCHS = 15\n",
    "LEARNING_RATE = 5e-5\n",
    "\n",
    "BEAM_SIZE = 10\n",
    "MAX_SOURCE_LEN = 256\n",
    "MAX_TARGET_LEN = 128\n",
    "\n",
    "BATCH_SIZE_EVAL = 256\n",
    "BATCH_SIZE_TRAIN = 256\n",
    "\n",
    "MINI_DATASET_SIZE = 4096\n",
    "MINI_MODE_ENABLED = False\n",
    "\n",
    "FILENAME_JSONL_TEST = \"test.jsonl\"\n",
    "FILENAME_JSONL_TRAIN = \"train.jsonl\"\n",
    "FILENAME_JSONL_VALID = \"valid.jsonl\"\n",
    "\n",
    "FILENAME_JSONL_TEST_MINI = \"test-mini.jsonl\"\n",
    "FILENAME_JSONL_TRAIN_MINI = \"train-mini.jsonl\"\n",
    "FILENAME_JSONL_VALID_MINI = \"valid-mini.jsonl\"\n",
    "\n",
    "FILENAME_CSV_BLEU_SCORES = \"bleu_scores.csv\"\n",
    "FILENAME_CSV_EVAL_LOSSES = \"eval_losses.csv\"\n",
    "FILENAME_CSV_TRAIN_LOSSES = \"train_losses.csv\"\n",
    "FILENAME_TXT_BLEU_SCORE_TEST = \"bleu_score.test\""
   ]
  },
  {
   "cell_type": "code",
   "execution_count": 3,
   "metadata": {
    "id": "nJb4pLJn5mZT"
   },
   "outputs": [],
   "source": [
    "notebook_path = os.path.abspath(os.curdir)\n",
    "root_path = os.path.dirname(notebook_path)\n",
    "\n",
    "repo_path = os.path.join(root_path, \"repos\", \"CodeXGLUE\")\n",
    "task_path = os.path.join(repo_path, \"Code-Text\", \"code-to-text\")\n",
    "\n",
    "src_root_path = os.path.join(root_path, \"src\", \"python\")\n",
    "src_task_path = os.path.join(src_root_path, \"codexglue\", \"summarization\")\n",
    "\n",
    "code_path = os.path.join(task_path, \"code\")\n",
    "dataset_path = os.path.join(task_path, \"dataset\")\n",
    "evaluator_path = os.path.join(task_path, \"evaluator\")\n",
    "\n",
    "model_path = os.path.join(notebook_path, \"model\")\n",
    "src_notebook_path = os.path.join(notebook_path, \"src\")\n",
    "\n",
    "model_name = \"{dataset}-{task}-{model_type}-{pretrained_model}-{lang}-n_epochs={n_epochs}-lr={lr}\" \\\n",
    "    .format(\n",
    "        lang=LANG_SRC\n",
    "        , lr=LEARNING_RATE\n",
    "        , n_epochs=N_EPOCHS\n",
    "        , dataset=\"codexglue\"\n",
    "        , task=\"summarization\"\n",
    "        , model_type=MODEL_TYPE\n",
    "        , pretrained_model=PRETRAINED_MODEL.replace(\"/\", \"_\").replace(\"-\", \"_\")\n",
    "    )"
   ]
  },
  {
   "cell_type": "code",
   "execution_count": 4,
   "metadata": {
    "id": "pGhieuEoGf13"
   },
   "outputs": [
    {
     "name": "stderr",
     "output_type": "stream",
     "text": [
      "05/08/2022 08:10:10 - INFO - __main__ -   Namespace(adam_epsilon=1e-08, beam_size=10, bleu_score_test_txt_filename='/home/user/CS5814-project/codexglue-summarization-cross-java-on-python/model/bleu_score.test', bleu_scores_csv_filename=None, config_name='', dev_filename=None, do_eval=False, do_lower_case=False, do_test=True, do_train=False, eval_batch_size=256, eval_losses_csv_filename=None, eval_steps=-1, gradient_accumulation_steps=1, learning_rate=5e-05, load_model_path='/home/user/CS5814-project/codexglue-summarization-cross-java-on-python/model/checkpoint-best-bleu/pytorch_model.bin', local_rank=-1, max_grad_norm=1.0, max_source_length=256, max_steps=-1, max_target_length=128, model_name_or_path='microsoft/unixcoder-base', model_type='roberta', no_cuda=False, num_train_epochs=3, output_dir='/home/user/CS5814-project/codexglue-summarization-cross-java-on-python/model', seed=42, test_filename='/home/user/CS5814-project/repos/CodeXGLUE/Code-Text/code-to-text/dataset/go/test.jsonl', tokenizer_name='', train_batch_size=8, train_filename=None, train_losses_csv_filename=None, train_steps=-1, warmup_steps=0, weight_decay=0.0)\n",
      "05/08/2022 08:10:11 - WARNING - __main__ -   Process rank: -1, device: cuda, n_gpu: 2, distributed training: False\n",
      "05/08/2022 08:10:18 - INFO - __main__ -   reload model from /home/user/CS5814-project/codexglue-summarization-cross-java-on-python/model/checkpoint-best-bleu/pytorch_model.bin\n",
      "05/08/2022 08:10:21 - INFO - __main__ -   Test file: /home/user/CS5814-project/repos/CodeXGLUE/Code-Text/code-to-text/dataset/go/test.jsonl\n",
      "  0%|          | 0/32 [00:00<?, ?it/s]/home/user/miniconda3/envs/fastai/lib/python3.8/site-packages/torch/_tensor.py:575: UserWarning: floor_divide is deprecated, and will be removed in a future version of pytorch. It currently rounds toward 0 (like the 'trunc' function NOT 'floor'). This results in incorrect rounding for negative values.\n",
      "To keep the current behavior, use torch.div(a, b, rounding_mode='trunc'), or for actual floor division, use torch.div(a, b, rounding_mode='floor'). (Triggered internally at  /opt/conda/conda-bld/pytorch_1631630839582/work/aten/src/ATen/native/BinaryOps.cpp:467.)\n",
      "  return torch.floor_divide(self, other)\n",
      "100%|██████████| 32/32 [11:20<00:00, 21.28s/it]\n",
      "Total: 8122\n",
      "05/08/2022 08:21:56 - INFO - __main__ -     bleu-4 = 13.45 \n",
      "05/08/2022 08:21:56 - INFO - __main__ -     ********************\n"
     ]
    },
    {
     "data": {
      "text/plain": [
       "0"
      ]
     },
     "execution_count": 4,
     "metadata": {},
     "output_type": "execute_result"
    }
   ],
   "source": [
    "subprocess.check_call(\n",
    "    [\n",
    "        \"python\"\n",
    "        \n",
    "        , os.path.join(code_path, \"run.py\")\n",
    "        \n",
    "        , \"--model_type\", MODEL_TYPE\n",
    "        , \"--model_name_or_path\", PRETRAINED_MODEL\n",
    "        , \"--output_dir\", model_path\n",
    "        , \"--load_model_path\", os.path.join(model_path, \"checkpoint-best-bleu\", \"pytorch_model.bin\")\n",
    "\n",
    "        , \"--beam_size\", str(BEAM_SIZE)\n",
    "        , \"--max_source_length\", str(MAX_SOURCE_LEN)\n",
    "        , \"--max_target_length\", str(MAX_TARGET_LEN)\n",
    "\n",
    "        , \"--do_test\"\n",
    "        , \"--eval_batch_size\", str(BATCH_SIZE_EVAL)\n",
    "        , \"--test_filename\", os.path.join(\n",
    "            dataset_path\n",
    "            , LANG_DST\n",
    "            , FILENAME_JSONL_TEST if not MINI_MODE_ENABLED else FILENAME_JSONL_TEST_MINI\n",
    "        )\n",
    "\n",
    "        , \"--bleu_score_test_txt_filename\", os.path.join(model_path, FILENAME_TXT_BLEU_SCORE_TEST)\n",
    "    ]\n",
    ")"
   ]
  },
  {
   "cell_type": "code",
   "execution_count": 5,
   "metadata": {},
   "outputs": [
    {
     "name": "stdout",
     "output_type": "stream",
     "text": [
      "Test Bleu score:  13.45\n"
     ]
    }
   ],
   "source": [
    "with open(os.path.join(model_path, FILENAME_TXT_BLEU_SCORE_TEST), 'r') as bleu_score_test_file:\n",
    "    print(\"Test Bleu score: \", bleu_score_test_file.readline())"
   ]
  },
  {
   "cell_type": "code",
   "execution_count": 8,
   "metadata": {},
   "outputs": [
    {
     "name": "stdout",
     "output_type": "stream",
     "text": [
      "Top 10 test data ground truth summaries of code in go language:\n",
      "\n",
      "0\tNewSTM initiates a new STM instance using serializable snapshot isolation by default .\n",
      "\n",
      "1\tfirst returns the store revision from the first fetch\n",
      "\n",
      "2\tcmps returns a cmp list testing no writes have happened past rev\n",
      "\n",
      "3\tNewSTMRepeatable is deprecated .\n",
      "\n",
      "4\tNewSTMSerializable is deprecated .\n",
      "\n",
      "5\tNewSTMReadCommitted is deprecated .\n",
      "\n",
      "6\tNewCertPool creates x509 certPool with provided CA files .\n",
      "\n",
      "7\tNewCert generates TLS cert by using the given cert key and parse function .\n",
      "\n",
      "8\tPause pauses the peer . The peer will simply drops all incoming messages without returning an error .\n",
      "\n",
      "9\tResume resumes a paused peer .\n",
      "\n",
      "10\tpick picks a chan for sending the given message . The picked chan and the picked chan string name are returned .\n",
      "\n",
      "11\tpost posts the given request . It returns nil when request is sent out and processed successfully .\n",
      "\n",
      "12\tnewTxnResp allocates a txn response for a txn request given a path .\n",
      "\n",
      "13\tapplyCompare applies the compare request . If the comparison succeeds it returns true . Otherwise returns false .\n",
      "\n",
      "14\tOpCompact wraps slice CompactOption to create a CompactOp .\n",
      "\n",
      "15\tNewPriorityQueue creates an etcd priority queue .\n",
      "\n",
      "16\tEnqueue puts a value into a queue with a given priority .\n",
      "\n",
      "17\tNewLeaderStats generates a new LeaderStats with the given id as leader\n",
      "\n",
      "18\tSucc updates the FollowerStats with a successful send\n",
      "\n",
      "19\tFail updates the FollowerStats with an unsuccessful send\n",
      "\n"
     ]
    }
   ],
   "source": [
    "print(\"Top 10 test data ground truth summaries of code in {lang_dst} language:\\n\".format(lang_dst=LANG_DST))\n",
    "\n",
    "with open(os.path.join(model_path, \"test_0.gold\"), mode=\"r\") as f:\n",
    "    for _ in range(20):\n",
    "        print(f.readline())"
   ]
  },
  {
   "cell_type": "code",
   "execution_count": 9,
   "metadata": {},
   "outputs": [
    {
     "name": "stdout",
     "output_type": "stream",
     "text": [
      "Top 10 test data predicted summaries of code in go language using the trained codexglue-summarization-roberta-microsoft_unixcoder_base-java-n_epochs=15-lr=5e-05 model:\n",
      "\n",
      "0\tExecutes the given STM with the given options .\n",
      "\n",
      "1\tReturns the first revision of the set .\n",
      "\n",
      "2\tReturns the comparator used to compare the given revision .\n",
      "\n",
      "3\tApplies an operation to a STMn response .\n",
      "\n",
      "4\tApply a STMn response to a STM .\n",
      "\n",
      "5\tApply an operation on a STMn response .\n",
      "\n",
      "6\tCreate a cert pool from a list of PEM files .\n",
      "\n",
      "7\tParses a certificate from a file .\n",
      "\n",
      "8\tPause the peer .\n",
      "\n",
      "9\tResume the peer .\n",
      "\n",
      "10\tPicks a message .\n",
      "\n",
      "11\tSend a POST request .\n",
      "\n",
      "12\tGet txn response .\n",
      "\n",
      "13\tCompares a CompareView .\n",
      "\n",
      "14\tCompacts the given revision\n",
      "\n",
      "15\tCreate a priority queue .\n",
      "\n",
      "16\tEnqueues a value in priority queue .\n",
      "\n",
      "17\tReturns a statistics for the leader\n",
      "\n",
      "18\tCount success .\n",
      "\n",
      "19\tIncrement the follower stats\n",
      "\n"
     ]
    }
   ],
   "source": [
    "print(\"Top 10 test data predicted summaries of code in {lang_dst} language using the trained {model_name} model:\\n\".format(lang_dst=LANG_DST, model_name=model_name))\n",
    "\n",
    "with open(os.path.join(model_path, \"test_0.output\"), mode=\"r\") as f:\n",
    "    for _ in range(20):\n",
    "        print(f.readline())"
   ]
  }
 ],
 "metadata": {
  "accelerator": "GPU",
  "colab": {
   "background_execution": "on",
   "collapsed_sections": [],
   "name": "dataset=codexglue-task=summarization-model_type=roberta-pretrained_model=codebert-lang=python.ipynb",
   "provenance": []
  },
  "interpreter": {
   "hash": "1bd664d798eaef90b759c461f8ddc88e16fa212736979b86e27c0afa80cea1c1"
  },
  "kernelspec": {
   "display_name": "Python 3 (ipykernel)",
   "language": "python",
   "name": "python3"
  },
  "language_info": {
   "codemirror_mode": {
    "name": "ipython",
    "version": 3
   },
   "file_extension": ".py",
   "mimetype": "text/x-python",
   "name": "python",
   "nbconvert_exporter": "python",
   "pygments_lexer": "ipython3",
   "version": "3.8.5"
  }
 },
 "nbformat": 4,
 "nbformat_minor": 4
}
