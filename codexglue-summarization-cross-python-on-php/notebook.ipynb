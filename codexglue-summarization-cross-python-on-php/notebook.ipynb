{
 "cells": [
  {
   "cell_type": "code",
   "execution_count": 1,
   "metadata": {
    "id": "nJOBqjOc5mZQ"
   },
   "outputs": [],
   "source": [
    "import os\n",
    "import subprocess"
   ]
  },
  {
   "cell_type": "code",
   "execution_count": 2,
   "metadata": {
    "id": "XIB4Yru35mZS"
   },
   "outputs": [],
   "source": [
    "LANG_SRC = \"python\"\n",
    "LANG_DST = \"php\"\n",
    "\n",
    "MODEL_TYPE = \"roberta\"\n",
    "PRETRAINED_MODEL = \"microsoft/unixcoder-base\"\n",
    "\n",
    "N_EPOCHS = 15\n",
    "LEARNING_RATE = 5e-5\n",
    "\n",
    "BEAM_SIZE = 10\n",
    "MAX_SOURCE_LEN = 256\n",
    "MAX_TARGET_LEN = 128\n",
    "\n",
    "BATCH_SIZE_EVAL = 256\n",
    "BATCH_SIZE_TRAIN = 256\n",
    "\n",
    "MINI_DATASET_SIZE = 4096\n",
    "MINI_MODE_ENABLED = False\n",
    "\n",
    "FILENAME_JSONL_TEST = \"test.jsonl\"\n",
    "FILENAME_JSONL_TRAIN = \"train.jsonl\"\n",
    "FILENAME_JSONL_VALID = \"valid.jsonl\"\n",
    "\n",
    "FILENAME_JSONL_TEST_MINI = \"test-mini.jsonl\"\n",
    "FILENAME_JSONL_TRAIN_MINI = \"train-mini.jsonl\"\n",
    "FILENAME_JSONL_VALID_MINI = \"valid-mini.jsonl\"\n",
    "\n",
    "FILENAME_CSV_BLEU_SCORES = \"bleu_scores.csv\"\n",
    "FILENAME_CSV_EVAL_LOSSES = \"eval_losses.csv\"\n",
    "FILENAME_CSV_TRAIN_LOSSES = \"train_losses.csv\"\n",
    "FILENAME_TXT_BLEU_SCORE_TEST = \"bleu_score.test\""
   ]
  },
  {
   "cell_type": "code",
   "execution_count": 3,
   "metadata": {
    "id": "nJb4pLJn5mZT"
   },
   "outputs": [],
   "source": [
    "notebook_path = os.path.abspath(os.curdir)\n",
    "root_path = os.path.dirname(notebook_path)\n",
    "\n",
    "repo_path = os.path.join(root_path, \"repos\", \"CodeXGLUE\")\n",
    "task_path = os.path.join(repo_path, \"Code-Text\", \"code-to-text\")\n",
    "\n",
    "src_root_path = os.path.join(root_path, \"src\", \"python\")\n",
    "src_task_path = os.path.join(src_root_path, \"codexglue\", \"summarization\")\n",
    "\n",
    "code_path = os.path.join(task_path, \"code\")\n",
    "dataset_path = os.path.join(task_path, \"dataset\")\n",
    "evaluator_path = os.path.join(task_path, \"evaluator\")\n",
    "\n",
    "model_path = os.path.join(notebook_path, \"model\")\n",
    "src_notebook_path = os.path.join(notebook_path, \"src\")\n",
    "\n",
    "model_name = \"{dataset}-{task}-{model_type}-{pretrained_model}-{lang}-n_epochs={n_epochs}-lr={lr}\" \\\n",
    "    .format(\n",
    "        lang=LANG_SRC\n",
    "        , lr=LEARNING_RATE\n",
    "        , n_epochs=N_EPOCHS\n",
    "        , dataset=\"codexglue\"\n",
    "        , task=\"summarization\"\n",
    "        , model_type=MODEL_TYPE\n",
    "        , pretrained_model=PRETRAINED_MODEL.replace(\"/\", \"_\").replace(\"-\", \"_\")\n",
    "    )"
   ]
  },
  {
   "cell_type": "code",
   "execution_count": 4,
   "metadata": {
    "id": "pGhieuEoGf13"
   },
   "outputs": [
    {
     "name": "stderr",
     "output_type": "stream",
     "text": [
      "05/08/2022 08:56:40 - INFO - __main__ -   Namespace(adam_epsilon=1e-08, beam_size=10, bleu_score_test_txt_filename='/home/user/CS5814-project/codexglue-summarization-cross-python-on-java/model/bleu_score.test', bleu_scores_csv_filename=None, config_name='', dev_filename=None, do_eval=False, do_lower_case=False, do_test=True, do_train=False, eval_batch_size=256, eval_losses_csv_filename=None, eval_steps=-1, gradient_accumulation_steps=1, learning_rate=5e-05, load_model_path='/home/user/CS5814-project/codexglue-summarization-cross-python-on-java/model/checkpoint-best-bleu/pytorch_model.bin', local_rank=-1, max_grad_norm=1.0, max_source_length=256, max_steps=-1, max_target_length=128, model_name_or_path='microsoft/unixcoder-base', model_type='roberta', no_cuda=False, num_train_epochs=3, output_dir='/home/user/CS5814-project/codexglue-summarization-cross-python-on-java/model', seed=42, test_filename='/home/user/CS5814-project/repos/CodeXGLUE/Code-Text/code-to-text/dataset/php/test.jsonl', tokenizer_name='', train_batch_size=8, train_filename=None, train_losses_csv_filename=None, train_steps=-1, warmup_steps=0, weight_decay=0.0)\n",
      "05/08/2022 08:56:40 - WARNING - __main__ -   Process rank: -1, device: cuda, n_gpu: 2, distributed training: False\n",
      "05/08/2022 08:56:47 - INFO - __main__ -   reload model from /home/user/CS5814-project/codexglue-summarization-cross-python-on-java/model/checkpoint-best-bleu/pytorch_model.bin\n",
      "05/08/2022 08:56:50 - INFO - __main__ -   Test file: /home/user/CS5814-project/repos/CodeXGLUE/Code-Text/code-to-text/dataset/php/test.jsonl\n",
      "  0%|          | 0/55 [00:00<?, ?it/s]/home/user/miniconda3/envs/fastai/lib/python3.8/site-packages/torch/_tensor.py:575: UserWarning: floor_divide is deprecated, and will be removed in a future version of pytorch. It currently rounds toward 0 (like the 'trunc' function NOT 'floor'). This results in incorrect rounding for negative values.\n",
      "To keep the current behavior, use torch.div(a, b, rounding_mode='trunc'), or for actual floor division, use torch.div(a, b, rounding_mode='floor'). (Triggered internally at  /opt/conda/conda-bld/pytorch_1631630839582/work/aten/src/ATen/native/BinaryOps.cpp:467.)\n",
      "  return torch.floor_divide(self, other)\n",
      "100%|██████████| 55/55 [18:49<00:00, 20.53s/it]\n",
      "Total: 14014\n",
      "05/08/2022 09:16:07 - INFO - __main__ -     bleu-4 = 22.9 \n",
      "05/08/2022 09:16:07 - INFO - __main__ -     ********************\n"
     ]
    },
    {
     "data": {
      "text/plain": [
       "0"
      ]
     },
     "execution_count": 4,
     "metadata": {},
     "output_type": "execute_result"
    }
   ],
   "source": [
    "subprocess.check_call(\n",
    "    [\n",
    "        \"python\"\n",
    "        \n",
    "        , os.path.join(code_path, \"run.py\")\n",
    "        \n",
    "        , \"--model_type\", MODEL_TYPE\n",
    "        , \"--model_name_or_path\", PRETRAINED_MODEL\n",
    "        , \"--output_dir\", model_path\n",
    "        , \"--load_model_path\", os.path.join(model_path, \"checkpoint-best-bleu\", \"pytorch_model.bin\")\n",
    "\n",
    "        , \"--beam_size\", str(BEAM_SIZE)\n",
    "        , \"--max_source_length\", str(MAX_SOURCE_LEN)\n",
    "        , \"--max_target_length\", str(MAX_TARGET_LEN)\n",
    "\n",
    "        , \"--do_test\"\n",
    "        , \"--eval_batch_size\", str(BATCH_SIZE_EVAL)\n",
    "        , \"--test_filename\", os.path.join(\n",
    "            dataset_path\n",
    "            , LANG_DST\n",
    "            , FILENAME_JSONL_TEST if not MINI_MODE_ENABLED else FILENAME_JSONL_TEST_MINI\n",
    "        )\n",
    "\n",
    "        , \"--bleu_score_test_txt_filename\", os.path.join(model_path, FILENAME_TXT_BLEU_SCORE_TEST)\n",
    "    ]\n",
    ")"
   ]
  },
  {
   "cell_type": "code",
   "execution_count": 5,
   "metadata": {},
   "outputs": [
    {
     "name": "stdout",
     "output_type": "stream",
     "text": [
      "Test Bleu score:  22.9\n"
     ]
    }
   ],
   "source": [
    "with open(os.path.join(model_path, FILENAME_TXT_BLEU_SCORE_TEST), 'r') as bleu_score_test_file:\n",
    "    print(\"Test Bleu score: \", bleu_score_test_file.readline())"
   ]
  },
  {
   "cell_type": "code",
   "execution_count": 6,
   "metadata": {},
   "outputs": [
    {
     "name": "stdout",
     "output_type": "stream",
     "text": [
      "Top 10 test data ground truth summaries of code in php language:\n",
      "\n",
      "0\tGet the administrator role create it if it does not exists .\n",
      "\n",
      "1\tGet or create user .\n",
      "\n",
      "2\tDelete a MenuItem for a given BREAD .\n",
      "\n",
      "3\tAuto generate Categories Translations .\n",
      "\n",
      "4\tReturn the Highest Order Menu Item .\n",
      "\n",
      "5\tCreate a default index name .\n",
      "\n",
      "6\tCreate a MenuItem for a given BREAD .\n",
      "\n",
      "7\tUpdate the table .\n",
      "\n",
      "8\tUpdates the table .\n",
      "\n",
      "9\tGet the table diff to rename columns .\n",
      "\n"
     ]
    }
   ],
   "source": [
    "print(\"Top 10 test data ground truth summaries of code in {lang_dst} language:\\n\".format(lang_dst=LANG_DST))\n",
    "\n",
    "with open(os.path.join(model_path, \"test_0.gold\"), mode=\"r\") as f:\n",
    "    for _ in range(10):\n",
    "        print(f.readline())"
   ]
  },
  {
   "cell_type": "code",
   "execution_count": 7,
   "metadata": {},
   "outputs": [
    {
     "name": "stdout",
     "output_type": "stream",
     "text": [
      "Top 10 test data predicted summaries of code in php language using the trained codexglue-summarization-roberta-microsoft_unixcoder_base-python-n_epochs=15-lr=5e-05 model:\n",
      "\n",
      "0\tGet an admin role .\n",
      "\n",
      "1\tCreate an admin account\n",
      "\n",
      "2\tIf the bread is deleted delete it .\n",
      "\n",
      "3\tAdd translations for categories .\n",
      "\n",
      "4\tGet the highest priority of a menu item .\n",
      "\n",
      "5\tCreate a unique name based on the columns and type .\n",
      "\n",
      "6\tadd a menu item\n",
      "\n",
      "7\tUpdate a table .\n",
      "\n",
      "8\tUpdate the table .\n",
      "\n",
      "9\tReturns a TableDiff with the renamed columns\n",
      "\n"
     ]
    }
   ],
   "source": [
    "print(\"Top 10 test data predicted summaries of code in {lang_dst} language using the trained {model_name} model:\\n\".format(lang_dst=LANG_DST, model_name=model_name))\n",
    "\n",
    "with open(os.path.join(model_path, \"test_0.output\"), mode=\"r\") as f:\n",
    "    for _ in range(10):\n",
    "        print(f.readline())"
   ]
  }
 ],
 "metadata": {
  "accelerator": "GPU",
  "colab": {
   "background_execution": "on",
   "collapsed_sections": [],
   "name": "dataset=codexglue-task=summarization-model_type=roberta-pretrained_model=codebert-lang=python.ipynb",
   "provenance": []
  },
  "interpreter": {
   "hash": "1bd664d798eaef90b759c461f8ddc88e16fa212736979b86e27c0afa80cea1c1"
  },
  "kernelspec": {
   "display_name": "Python 3 (ipykernel)",
   "language": "python",
   "name": "python3"
  },
  "language_info": {
   "codemirror_mode": {
    "name": "ipython",
    "version": 3
   },
   "file_extension": ".py",
   "mimetype": "text/x-python",
   "name": "python",
   "nbconvert_exporter": "python",
   "pygments_lexer": "ipython3",
   "version": "3.8.5"
  }
 },
 "nbformat": 4,
 "nbformat_minor": 4
}
