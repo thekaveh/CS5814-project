{
 "cells": [
  {
   "cell_type": "code",
   "execution_count": null,
   "metadata": {},
   "outputs": [],
   "source": [
    "import os\n",
    "import glob\n",
    "import shutil\n",
    "import zipfile\n",
    "import subprocess"
   ]
  },
  {
   "cell_type": "code",
   "execution_count": null,
   "metadata": {},
   "outputs": [],
   "source": [
    "root_path = os.path.abspath(os.curdir)\n",
    "repo_path = os.path.join(root_path, \"repos/CodeXGLUE\")\n",
    "task_path = os.path.join(repo_path, \"Code-Text/code-to-text\")\n",
    "dataset_path = os.path.join(task_path, \"dataset\")"
   ]
  },
  {
   "cell_type": "code",
   "execution_count": null,
   "metadata": {},
   "outputs": [],
   "source": [
    "if not os.path.exists(repo_path):\n",
    "    os.makedirs(repo_path, exist_ok=True)\n",
    "    \n",
    "    subprocess.check_call(\n",
    "        [\n",
    "            \"git\"\n",
    "            , \"clone\"\n",
    "            , \"https://github.com/microsoft/CodeXGLUE\"\n",
    "            , repo_path\n",
    "        ]\n",
    "    )"
   ]
  },
  {
   "cell_type": "code",
   "execution_count": null,
   "metadata": {},
   "outputs": [],
   "source": [
    "if not os.path.exists(dataset_path):\n",
    "    with zipfile.ZipFile(os.path.join(task_path, \"dataset.zip\"), 'r') as dataset_zip_file:\n",
    "        dataset_zip_file.extractall(task_path)\n",
    "\n",
    "    for pl in [\"python\", \"java\", \"ruby\", \"javascript\", \"go\", \"php\"]:\n",
    "        subprocess.check_call(\n",
    "            [\n",
    "                \"wget\"\n",
    "                , \"https://s3.amazonaws.com/code-search-net/CodeSearchNet/v2/{pl}.zip\".format(pl=pl)\n",
    "                , \"-P\"\n",
    "                , dataset_path\n",
    "            ]\n",
    "        )\n",
    "\n",
    "        with zipfile.ZipFile(os.path.join(dataset_path, \"{pl}.zip\".format(pl=pl)), 'r') as pl_zip_file:\n",
    "            pl_zip_file.extractall(dataset_path)\n",
    "    \n",
    "    os.chdir(dataset_path)\n",
    "    subprocess.check_call(\n",
    "        [\n",
    "            \"python\"\n",
    "            , os.path.join(dataset_path, \"preprocess.py\")\n",
    "        ]\n",
    "    )\n",
    "    os.chdir(root_path)\n",
    "\n",
    "    [os.remove(f) for f in glob.glob(os.path.join(dataset_path, \"*.zip\"))]\n",
    "    [os.remove(f) for f in glob.glob(os.path.join(dataset_path, \"*.pkl\"))]\n",
    "    [shutil.rmtree(dir, ignore_errors=True) for dir in glob.glob(os.path.join(dataset_path, \"*/final\"))]"
   ]
  }
 ],
 "metadata": {
  "interpreter": {
   "hash": "1bd664d798eaef90b759c461f8ddc88e16fa212736979b86e27c0afa80cea1c1"
  },
  "kernelspec": {
   "display_name": "Python 3.8.13",
   "language": "python",
   "name": "python3"
  },
  "language_info": {
   "codemirror_mode": {
    "name": "ipython",
    "version": 3
   },
   "file_extension": ".py",
   "mimetype": "text/x-python",
   "name": "python",
   "nbconvert_exporter": "python",
   "pygments_lexer": "ipython3",
   "version": "3.8.13"
  },
  "orig_nbformat": 4
 },
 "nbformat": 4,
 "nbformat_minor": 2
}
